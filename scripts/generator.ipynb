{
 "cells": [
  {
   "cell_type": "markdown",
   "metadata": {},
   "source": [
    "#### Generator\n",
    "\n",
    "Julia script that generates artificial graphs of a given size. Stores these in a CSV file to be later parsed in `pagerank.ipynb`.\n",
    "\n",
    "Recall that the CSV file has the following structure (as an example):\n",
    "```\n",
    "3\n",
    "1, 3\n",
    "1, 2, 3\n",
    "```\n",
    "So row 1 (the first node) is connected to the 3rd node only.\n",
    "\n",
    "Row 2 (the second node) is connected to both the 1st and 3rd nodes.\n",
    "\n",
    "Row 3 (the third node) is connected to the 1st, 2nd, and 3rd nodes.\n",
    "\n",
    "Since these graphs are connected at random, it may not be representative of what an actual website dataset may look like. Nevertheless we can create huge graphs with this script."
   ]
  },
  {
   "cell_type": "code",
   "execution_count": null,
   "metadata": {},
   "outputs": [],
   "source": [
    "using Random\n",
    "using StatsBase\n",
    "\n",
    "function generate_graph_text_file(num_nodes::Int, file_path::String)\n",
    "    open(file_path, \"w\") do file\n",
    "        # Generate connections for each node\n",
    "        for node in 1:num_nodes\n",
    "            # Randomly decide the number of connections for this node\n",
    "            num_connections = rand(1:num_nodes - 1)\n",
    "\n",
    "            # Choose random nodes to connect with\n",
    "            connections = sample(setdiff(1:num_nodes, [node]), num_connections, replace=false)\n",
    "\n",
    "            # Write connections to the file\n",
    "            connections_str = join(connections, \", \")\n",
    "            write(file, \"$connections_str\\n\")\n",
    "        end\n",
    "    end\n",
    "end\n",
    "\n",
    "generate_graph_text_file(1000, \"large-graph-1000.csv\")"
   ]
  }
 ],
 "metadata": {
  "kernelspec": {
   "display_name": "Julia 1.9.2",
   "language": "julia",
   "name": "julia-1.9"
  },
  "language_info": {
   "file_extension": ".jl",
   "mimetype": "application/julia",
   "name": "julia",
   "version": "1.9.2"
  }
 },
 "nbformat": 4,
 "nbformat_minor": 2
}
