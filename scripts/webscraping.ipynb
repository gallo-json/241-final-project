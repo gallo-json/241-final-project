{
 "cells": [
  {
   "cell_type": "markdown",
   "metadata": {},
   "source": [
    "#### Quick script that creates a realistic website dataset\n",
    "\n",
    "The goal for this script is to create a realistic graph with real websites. We scrape a set of websites for a specific search query, and paste them in `links.txt`, and for each website, we find all the hyperlinks. These are the node connections. Then we build the CSV dataset from there. This graph dataset will then be fed into our algorithm in `pagerank.ipynb`.\n",
    "\n",
    "The resulting graph is very sparse, unlike the densely connected graph that `generator.ipynb` creates artificially.\n",
    "\n",
    "By creating a realistic graph, albeit smaller than one used by Google, we hope to capture many of the real life obstacles PageRank faces. These include sinks, important sources, popular social media websites that may be irrelevant, links to ads, and so much more. This wouldn't be possible otherwise with a randomly created graph."
   ]
  },
  {
   "cell_type": "code",
   "execution_count": 1,
   "metadata": {},
   "outputs": [
    {
     "data": {
      "text/plain": [
       "200"
      ]
     },
     "execution_count": 1,
     "metadata": {},
     "output_type": "execute_result"
    }
   ],
   "source": [
    "# What you want to search\n",
    "query = \"how to fix a flat tire\"\n",
    "# How many results do you want\n",
    "num_nodes = 200"
   ]
  },
  {
   "cell_type": "code",
   "execution_count": null,
   "metadata": {},
   "outputs": [],
   "source": [
    "using HTTP\n",
    "using Gumbo\n",
    "using Cascadia"
   ]
  },
  {
   "cell_type": "markdown",
   "metadata": {},
   "source": [
    "Scrape all the websites that will be used for our nodes. We can do a quick Google search.\n",
    "\n",
    "Keep in mind that sometimes Google blocks this script because we are querying too rapidly, and it detects that we are a bot. So there is a cooldown time period.\n",
    "\n",
    "An interesting benchmark for our PageRank algorithm would be how close our results are to a real Google search."
   ]
  },
  {
   "cell_type": "code",
   "execution_count": 3,
   "metadata": {},
   "outputs": [
    {
     "ename": "LoadError",
     "evalue": "SystemError: opening file \"links.txt\": No such file or directory",
     "output_type": "error",
     "traceback": [
      "SystemError: opening file \"links.txt\": No such file or directory",
      "",
      "Stacktrace:",
      "  [1] systemerror(p::String, errno::Int32; extrainfo::Nothing)",
      "    @ Base ./error.jl:176",
      "  [2] #systemerror#82",
      "    @ ./error.jl:175 [inlined]",
      "  [3] systemerror",
      "    @ ./error.jl:175 [inlined]",
      "  [4] open(fname::String; lock::Bool, read::Bool, write::Nothing, create::Nothing, truncate::Nothing, append::Nothing)",
      "    @ Base ./iostream.jl:293",
      "  [5] open",
      "    @ ./iostream.jl:275 [inlined]",
      "  [6] open(fname::String, mode::String; lock::Bool)",
      "    @ Base ./iostream.jl:356",
      "  [7] open(fname::String, mode::String)",
      "    @ Base ./iostream.jl:355",
      "  [8] open(::var\"#3#4\", ::String, ::Vararg{String}; kwargs::Base.Pairs{Symbol, Union{}, Tuple{}, NamedTuple{(), Tuple{}}})",
      "    @ Base ./io.jl:393",
      "  [9] open(::Function, ::String, ::String)",
      "    @ Base ./io.jl:392",
      " [10] top-level scope",
      "    @ In[3]:4"
     ]
    }
   ],
   "source": [
    "results = String[]\n",
    "\n",
    "# Open the file and read line by line\n",
    "open(\"links.txt\", \"r\") do file\n",
    "    for line in eachline(file)\n",
    "        # Strip the line to remove any leading/trailing whitespace\n",
    "        clean_line = strip(line)\n",
    "\n",
    "        # Append the cleaned line to the links array\n",
    "        push!(results, clean_line)\n",
    "    end\n",
    "end"
   ]
  },
  {
   "cell_type": "code",
   "execution_count": 4,
   "metadata": {},
   "outputs": [
    {
     "name": "stdout",
     "output_type": "stream",
     "text": [
      "String[]Union{}[]"
     ]
    }
   ],
   "source": [
    "print(results)\n",
    "keys = [extract_domain(f) for f in results]\n",
    "print(keys)"
   ]
  },
  {
   "cell_type": "markdown",
   "metadata": {},
   "source": [
    "#### Helper function that gets all the hyperlinks from a web page\n",
    "\n",
    "The popularity of a website is determined by how much other websites reference it (how many connections that node has). This function scrapes the website for any URLs it makes reference to. \n",
    "\n",
    "One cool thing we do is we ignore all the hyperlinks that reference its own website. For example, the webpage\n",
    "\n",
    "`https://www.reliancedigital.in/solutionbox/how-to-diagnose-laptop-problems-and-fix-them/`\n",
    "\n",
    "Has the following hyperlinks inside its own text:\n",
    "```\n",
    "https://www.reliancedigital.in/solutionbox/category/product-reviews/\n",
    "https://www.reliancedigital.in/solutionbox/category/product-reviews/mobiles-tablets-reviews/\n",
    "https://www.reliancedigital.in/solutionbox/category/product-reviews/computers-laptops-product-review/\n",
    "https://www.reliancedigital.in/solutionbox/category/product-reviews/tv-audio-product-reviews/\n",
    "\n",
    "...\n",
    "\n",
    "https://www.reliancedigital.in/solutionbox/category/buying-guides/home-appliances-buying-guides/\n",
    "https://www.reliancedigital.in/solutionbox/category/buying-guides/health-personalcare/\n",
    "https://www.reliancedigital.in/solutionbox/category/buying-guides/batteries-juice-packs/\n",
    "https://www.reliancedigital.in/solutionbox/category/buying-guides/gaming-buying-guides/ \n",
    "```\n",
    "\n",
    "and many, many more that come from the same domain, `reliancedigital.in`. We only want to count this domain name once as a result, because it we counting it multiple times, it will blow up its own popularity in the graph because it keeps referencing itself. This will skew our PageRank algorithm findings as it'll think this website is really popular because it keeps getting referenced, but in reality its just referencing itself (almost like cheating). \n",
    "\n",
    "So we filter all the hyperlinks that come from the same domain. That way we keep the hyperlinks that really come from other sources, and that adds variety to the graph and is a more representative showing of popularity."
   ]
  },
  {
   "cell_type": "code",
   "execution_count": 5,
   "metadata": {},
   "outputs": [],
   "source": [
    "function get_all_hyperlinks(url::String)\n",
    "    # Perform the HTTP request and parse the HTML\n",
    "    response = HTTP.get(url)\n",
    "    soup = parsehtml(String(response.body))\n",
    "\n",
    "    # Extract all hyperlinks\n",
    "    urls = String[]\n",
    "    for link in eachmatch(Selector(\"a\"), soup.root)\n",
    "        hyperlink = get_attribute(link, \"href\")\n",
    "\n",
    "        # Continue to the next link if hyperlink is nothing\n",
    "        if isnothing(hyperlink)\n",
    "            continue\n",
    "        end\n",
    "\n",
    "        # Extract the domain name from the hyperlink\n",
    "        domain_name = HTTP.URIs.URI(hyperlink).host\n",
    "\n",
    "        # Filter out self-referencing hyperlinks\n",
    "        if domain_name !== nothing && domain_name ∉ url\n",
    "            push!(urls, domain_name)\n",
    "        end\n",
    "    end\n",
    "\n",
    "    return urls\n",
    "end"
   ]
  },
  {
   "cell_type": "markdown",
   "metadata": {},
   "source": [
    "#### Helper function that makes a temp CSV file to store data so far\n",
    "\n",
    "We store the data in a file as a intermediary instead of in a variable."
   ]
  },
  {
   "cell_type": "code",
   "execution_count": 26,
   "metadata": {},
   "outputs": [],
   "source": [
    "function make_nodes(path)\n",
    "    # Read lines from the links.txt file\n",
    "    lines = readlines(\"links.txt\")\n",
    "\n",
    "    # Open the output file for writing\n",
    "    open(path, \"w\") do fp\n",
    "        for i in 1:length(lines)\n",
    "            try\n",
    "                println(i)\n",
    "                # Write the key to the file, assuming 'keys' array is available\n",
    "                write(fp, chomp(keys[i]))\n",
    "\n",
    "                # Get all hyperlinks from the line\n",
    "                hlinks = get_all_hyperlinks(strip(lines[i]))\n",
    "\n",
    "                # Write each hyperlink to the file\n",
    "                for l in hlinks\n",
    "                    write(fp, \", \" * l)\n",
    "                end\n",
    "\n",
    "                # Write a newline to separate entries\n",
    "                write(fp, \"\\n\")\n",
    "\n",
    "                # Sleep for a short time\n",
    "                sleep(0.1)\n",
    "\n",
    "            ### This is usually bad practice but if we encounter an connection error or a blockage from the website\n",
    "            # we want to continue as if nothing happened in order to build our dataset\n",
    "            catch e\n",
    "                continue\n",
    "            end\n",
    "        end\n",
    "    end\n",
    "end"
   ]
  },
  {
   "cell_type": "code",
   "execution_count": 27,
   "metadata": {},
   "outputs": [
    {
     "name": "stdout",
     "output_type": "stream",
     "text": [
      "141\n",
      "142\n",
      "143\n",
      "144\n",
      "145\n",
      "146\n",
      "147\n",
      "148\n",
      "149\n",
      "150\n",
      "151\n",
      "152\n",
      "153\n",
      "154\n",
      "155\n",
      "156\n",
      "157\n",
      "158\n",
      "159\n",
      "160\n",
      "161\n",
      "162\n",
      "163\n",
      "164\n",
      "165\n",
      "166\n",
      "167\n",
      "168\n",
      "169\n",
      "170\n",
      "171\n",
      "172\n",
      "173\n",
      "174\n",
      "175\n",
      "176\n",
      "177\n",
      "178\n",
      "179\n",
      "180\n",
      "181\n",
      "182\n",
      "183\n",
      "184\n",
      "185\n",
      "186\n",
      "187\n",
      "188\n",
      "189\n",
      "190\n",
      "191\n",
      "192\n",
      "193\n",
      "194\n",
      "195\n",
      "196\n",
      "197\n",
      "198\n",
      "199\n",
      "200\n",
      "201\n"
     ]
    }
   ],
   "source": [
    "make_nodes(\"temp.csv\")"
   ]
  },
  {
   "cell_type": "markdown",
   "metadata": {},
   "source": [
    "#### Create a dictionary from the temp CSV file. \n",
    "\n",
    "Each key is a node, and the entries are an array to all the websites that node has hyperlinks to. We then remove duplicate hyperlinks because only one is needed."
   ]
  },
  {
   "cell_type": "code",
   "execution_count": 28,
   "metadata": {},
   "outputs": [
    {
     "name": "stdout",
     "output_type": "stream",
     "text": [
      "{'www.wikihow.com': ['www.facebook.com', 'fr.wikihow.com', 'www.pinterest.com', 'www.carsdirect.com', 'www.wikihow.it', 'www.youtube.com', 'knowhow.napaonline.com', 'www.gonift.com', 'twitter.com', 'ar.wikihow.com', 'autorepair.about.com', 'ru.wikihow.com', 'www.instagram.com', 'www.tiktok.com'], 'www.quora.com': [], 'techtirerepairs.com': [], 'www.mach1services.com': [], 'germaniainsurance.com': ['classic.germaniaconnect.com', 'www.facebook.com', 'www.autoguide.com', 'germania-ciam.okta.com', 'www.instagram.com', 'policyholders.germaniaconnect.com', 'twitter.com', 'www.thedrive.com', 'www.brandtackle.com', 'roadsumo.com', 'germaniacreditunion.com', 'www.linkedin.com'], 'www.amfam.com': ['www.facebook.com', 'play.google.com', 'www.ghsa.org', 'instagram.com', 'www.pinterest.com', 'newsroom.amfam.com', 'injuryfacts.nsc.org', 'www.twitter.com', 'www.youtube.com', 'apps.apple.com', 'www.digicert.com', 'b2b.amfam.com', 'www.iii.org', 'www.ncsl.org', 'www.linkedin.com', 'chat-ui.amfam.com'], 'www.progressive.comwww.sullivantire.com': ['www.linkedin.com', 'www.facebook.com', 'www.tireindustry.org', 'www.ustires.org', 'www.sullivantirewholesale.com', 'www.youtube.com', 'www.twitter.com', 'www.pintrest.com', 'twitter.com', 'portal.sullivantire.com', 'www.instagram.com'], 'www.bicycling.com': ['www.dynaplug.com', 'www.facebook.com', 'www.pinterest.com', 'www.hearst.com', 'www.notubes.com', 'www.youtube.com', 'subscribe.hearstmags.com', 'twitter.com', 'go.redirectingat.com', 'goto.walmart.com', 'www.amazon.com', 'shop.bicycling.com', 'www.instagram.com', 'www.tiktok.com'], 'www.tires-easy.com': ['www.goodyear.com', 'www.facebook.com', 'ro.pinterest.com', 'register.cimstireregistration.com', 'www.youtube.com', 'twitter.com', 'www.instagram.com'], 'blog.napacanada.com': ['www.ritewaytowingnyc.com', 'www.traction.com', 'www.facebook.com', 'www.myyttilukukansasta.fi', 'www.thelightwire.com', 'elitetowingcg.com', 'gotechmantra.com', 'www.youtube.com', 'www.uapinc.com', 'www.napaautopro.com', 'www.napaonline.com', 'i-5trucktrailerrepair.com', 'twitter.com', 'towingbee.com', 'www.truckpro.ca', 'www.napacanada.com', 'www.instagram.com'], 'www.bridgestonetire.com': ['www.facebook.com', 'home-c14.incontact.com', 'www.instagram.com', 'www.youtube.com', 'www.bridgestonetire.ca', 'twitter.com', 'www.bridgestoneamericas.com', 'bebridgestone.com'], 'www.rei.com': [], 'velosurance.com': [], 'www.lesschwab.com': ['www.facebook.com', 'www.google.com', 'www.youtube.com', 'www.twitter.com', 'www.instagram.com'], 'www.millerautoplaza.com': ['www.cloudflare.com'], 'knowhow.napaonline.com': [], 'www.fixaflat.com': ['instagram.com', 'www.facebook.com', 'www.youtube.com', 'careers.itw.com', 'twitter.com'], 'www.trekchicago.com': ['www.eventbrite.com', 'www.facebook.com', 'www.trekbikes.com', 'www.klarna.com'], 'carfromjapan.com': ['how-to-buy', 'cheap-used-cars-for-sale', 'testimonials', 'cfj-local'], 'www.pirelli.com': ['www.hangarbicocca.org', 'www.facebook.com', 'www.prometeon.com', 'www.instagram.com', 'www.fondazionepirelli.org', 'my.pirelli.com', 'www.youtube.com', 'www.pirellidesign.com', 'twitter.com', 'corporate.pirelli.com', 'www.linkedin.com', 'pirellicalendar.pirelli.com'], 'www.popularmechanics.com': ['www.facebook.com', 'www.popularmechanicsmediakit.com', 'www.pinterest.com', 'www.hearst.com', 'www.youtube.com', 'subscribe.hearstmags.com', 'twitter.com', 'goto.walmart.com', 'www.amazon.com', 'shop.popularmechanics.com', 'www.instagram.com', 'www.tiktok.com'], 'www.azdiyguy.com': ['Amazon.com', 'www.facebook.com', 'en.wikipedia.org', 'instagram.com', 'www.pinterest.com', 'AMAZON.COM', 'www.youtube.com', 'az-diy-guy.squarespace.com', 'twitter.com', 'mailchi.mp', 'www.amazon.com'], 'www.rac.co.uk': ['www.ractyres.co.uk', 'www.facebook.com', 'media.rac.co.uk', 'www.racshop.co.uk', 'www.instagram.com', 'www.raccorporate.co.uk', 'www.racbenefits.co.uk', 'www.youtube.com', 'disqus.com', 'twitter.com', 'forum.rac.co.uk', 'www.raccars.co.uk', 'www.rac-careers.com', 'www.linkedin.com'], 'www.pepboys.com': [], 'blog.clutch.ca': ['www.facebook.com', 'www.tireindustry.org', 'www.clutch.ca', 'cars.costhelper.com', 'www.instagram.com', 'www.twitter.com', 'www.messenger.com', 'www.tirebuyer.com'], 'www.kaltire.com': ['www.facebook.com', 'commercial.kaltire.com', 'www.kaltiremining.com', 'www.youtube.com', 'ca.linkedin.com', 'jobs.jobvite.com', 'www.instagram.com'], 'www.digitaltrends.com': ['www.123rf.com', 'www.linkedin.com', 'theangle.digitaltrends.com', 'www.facebook.com', 'privacyportal.onetrust.com', 'www.thoughtco.com', 'es.digitaltrends.com', 'www.dtadsolutions.com', 'www.pinterest.com', 'www.adcetera.com', 'www.youtube.com', 'www.themanual.com', 'downloads.digitaltrends.com', 'www.dtmg.co', 'twitter.com', 'www.instagram.com', 'www.tiktok.com'], 'selleanatomica.com': ['www.shopify.com', 'www.facebook.com', 'plus.google.com', 'vimeo.com', 'www.coach-darryl.com', 'partners.selleanatomica.com', 'pinterest.com', 'twitter.com', 'disqus.com', 'www.instagram.com'], 'www.chapelhilltire.com': ['promotions.chapelhilltire.com', 'www.facebook.com', 'ulfric.digitalmarketingsys.com:2096', 'www.instagram.com', 'apps.apple.com', 'twitter.com', 'play.google.com', 'www.linkedin.com', 'www.tiktok.com'], 'www.utires.com': ['www.facebook.com', 'www.tireindustry.org', 'www.fountaintire.com', 'www.jiffylube.com', 'www.kaltire.com', 'www.ebay.com', 'www.continental-tires.com', 'www.grainger.com', 'icesjms.oxfordjournals.org', 'www.motorweek.org', 'www.evolutionm.net', 'www.tirereview.com', 'www.tirerack.com', 'www.michelinman.com', 'ijoh.tums.ac.ir', 'www.pepboys.com', 'www.carsdirect.com', 'epa.gov', 'www.autos.com', 'www.patchrubber.com', 'forum.roadfly.com', 'www.allpar.com', 'classic.artsautomotive.com', 'autorepair.about.com', 'www.rma.org', 'www.blackjacktirerepair.com', 'www.continental-corporation.com', 'digitalscholarship.unlv.edu', 'www.wikihow.com', 'txtire.com', 'www.washingtonpost.com', 'skeptics.stackexchange.com', 'tires.about.com', 'diy-auto-repair.wonderhowto.com', 'www.moderntiredealer.com', 'www.instagram.com', 'www.sciencedirect.com', 'artsautomotive.com', 'www.team-bhp.com', 'www.youtube.com', 'www.paddlenepal.com', 'www.tirebusiness.com', 'link.springer.com', 'answers.yahoo.com'], 'www.tirerack.com': [], 'eleglide.com': ['www.shopify.com', 'instagram.com', 'www.facebook.com', 'www.youtube.com', 'www.trustpilot.com', 'twitter.com', 'policies.google.com', 'eleglide.goaffpro.com', 'www.instagram.com'], 'www.goodyear.com': ['www.facebook.com', 'privacyportal.onetrust.com', 'corporate.goodyear.com', 'jobs.goodyear.com', 'www.instagram.com', 'www.youtube.com', 'twitter.com', 'www.linkedin.com'], 'www.repairsmith.com': ['support.repairsmith.com', 'properties.repairsmith.com', 'www.facebook.com', 'fleet.repairsmith.com', 'employers.repairsmith.com', 'www.pinterest.com', 'www.instagram.com', 'www.youtube.com', 'twitter.com', 'www.forbes.com', 'contact.repairsmith.com', 'www.linkedin.com'], 'www.hagerty.com': ['www.linkedin.com', 'www.facebook.com', 'investor.hagerty.com', 'www.youtube.com', 'insider.hagerty.com', 'corporate.hagerty.com', 'www.hagerty.co.uk', 'twitter.com', 'submit-irm.trustarc.com', 'account.hagerty.com', 'www.instagram.com'], 'www.bigbrandtire.com': [], 'www.firestonecompleteautocare.com': ['www.facebook.com', 'local.firestonecompleteautocare.com', 'local.firestonedirect.com', 'www.buyatab.com', 'www.bebridgestone.com', 'www.cfna.com', 'vehicle.firestonecompleteautocare.com', 'www.firestoneracing.com', 'twitter.com', 'www.bridgestoneamericas.com', 'www.instagram.com'], 'www.liv-cycling.com': ['www.giantgroup-cycling.com', 'www.facebook.com', 'www.instagram.com', 'www.youtube.com'], 'eliteautorepairtempe.com': ['www.facebook.com', 'www.youtube.com', 'goo.gl', 'twitter.com', 'kukui.com', 'www.yelp.com', 'www.linkedin.com'], 'www.scottclarkstoyota.com': ['smartpath.scottclarkstoyota.com', 'www.facebook.com', 'www.toyota.com', 'pixabay.com', 'bookmarks.yahoo.com', 'www.dealeron.com', 'www.bookmarkify.com', 'www.youtube.com', 'www.twitter.com', 'twitter.com', 'maps.google.com', 'www.feedburner.com', 'www.linkedin.com'], 'www.carhop.com': ['www.cloudflare.com'], 'www.goodyearautoservice.com': ['corporate.goodyear.com', 'jobs.goodyear.com', 'citiretailservices.citibankonline.com'], 'carloversautomotive.com': ['www.linkedin.com', 'www.facebook.com', 'www.instagram.com', 'www.google.com'], 'www.matthewstire.com': ['www.goodyear.com', 'www.facebook.com', 'www.motorist.org', 'www.bbb.org', 'www.carcare.org', 'www.instagram.com', 'insightcreative.com', 'www.youtube.com', 'goo.gl', 'g.page', 'www.ase.com', 'twitter.com', 'tireindustry.org', 'www.linkedin.com'], 'topdriver.com': ['www.linkedin.com', 'www.facebook.com', 'www.thoughtco.com', 'www.topdriversignals.com', 'www.youtube.com', 'www.topdriver.com', 'topdriveronline.net', 'send', 'twitter.com', 'www.allstardrivereducation.com', 'pinterest.com', 'www.instagram.com', 'www.topdriverparent.com'], 'www.instructables.com': ['usa.autodesk.com', 'www.tireindustry.org', 'youtu.be', 'www.autodesk.com', 'www.instagram.com', 'www.tiktok.com'], 'www.tireagent.com': ['www.carshtuff.com', 'www.linkedin.com', 'www.facebook.com', 'www.fixaflat.com', 'www.ustires.org', 'www.pinterest.com', 'www.dreamstime.com', 'app.accruesavings.com', 'www.twitter.com', 'www.youtube.com', 'www.instagram.com', 'tireagent.applytojob.com', 'www.tiktok.com'], 'retail.wonderlandtire.com': ['support.cloudflare.com', 'www.cloudflare.com'], 'www.bikeride.com': ['forums.bikeride.com', 'www.facebook.com', 'www.jimlangley.net', 'www.youtube.com', 'www.sheldonbrown.com', 'twitter.com', 'www.strava.com', 'www.amazon.com', 'www.parktool.com', 'www.instagram.com'], 'www.carfax.com': ['www.aaa.com', 'www.carfaxserviceshops.com', 'support.carfax.com', 'www.facebook.com', 'secure.carfax.com', 'www.instagram.com', 'www.carfaxbig.com', 'www.youtube.com', 'www.carfaxfordealers.com', 'twitter.com', 'jobs.jobvite.com', 'www.linkedin.com', 'www.tiktok.com'], 'www.revzilla.com': ['www.facebook.com', 'instagram.com', 'www.reddit.com', 'www.progressive.com', 'www.youtube.com', 'twitter.com', 'revzilla.extole.io'], 'www.discounttire.com': [], 'www.dealnews.com': ['cen.acs.org', 'www.facebook.com', 'www.youtube.com', 'www.twitter.com', 'twitter.com', 'corp.dealnews.com', 'newsroom.aaa.com', 'www.linkedin.com', 'www.fixaflat.com'], 'www.keystonechevrolet.com': ['www.cloudflare.com'], 'www.mmtires.com': [], 'www.americantiredepot.com': [], 'www.unitedautoinsurance.com': ['www.facebook.com', 'www.google.com', 'www.youtube.com', 'twitter.com', 'csp.unitedautoinsurance.com'], 'www.petersenshunting.com': [], 'www.oreillyauto.com': [], 'www.jiffylube.com': ['www.facebook.com', 'www.jiffylube.ca', 'www.youtube.com', 'twitter.com', 'acquisitions.jiffylube.com', 'franchise.jiffylube.com'], 'www.alltechautomotive.com': ['www.facebook.com', 'www.thoughtco.com', 'www.youtube.com', 'twitter.com', 'kukui.com', 'www.yelp.com'], 'www.tirebarn.com': ['www.facebook.com', 'corporate.monro.com', 'twitter.com'], 'www.roadbikerider.com': ['www.facebook.com', 'www.pinterest.com', 'NeugentCycling.com', 'wordpress.org', 'www.studiopress.com', 'my.studiopress.com'], 'www.bigltireco.com': ['www.cloudflare.com'], 'www.yokohamatire.com': ['yokohamatruck.com', 'www.linkedin.com', 'merchandise.yokohamatire.com', 'www.facebook.com', 'eco.yokohamatire.com', 'tire.yokohama.ca', 'privacyportal-eu.onetrust.com', 'ustires.org', 'www.youtube.com', 'yokohamallantas.com', 'twitter.com', 'www.instagram.com', 'www.yokohamatruck.com'], 'www.tirekingdom.com': [], 'www.goldeagle.com': ['thegoldeaglemethod.com', 'coolridesonline.net', 'www.linkedin.com'], 'blog.nationwide.com': ['www.facebook.com', 'www.fdic.gov', 'news.nationwide.com', 'www.youtube.com', 'www.nationwide.com', 'twitter.com', 'www.linkedin.com'], 'getresqued.com': [], 'townfairtire.com': ['www.facebook.com', 'www.pinterest.com', 'www.instagram.com', 'www.surveymonkey.com', 'twitter.com', 'www.linkedin.com'], 'www.tiresplus.com': ['www.facebook.com', 'www.buyatab.com', 'www.bebridgestone.com', 'www.cfna.com', 'twitter.com', 'www.bridgestoneamericas.com', 'local.tiresplus.com', 'www.instagram.com'], 'www.justtires.com': ['corporate.goodyear.com', 'jobs.goodyear.com', 'citiretailservices.citibankonline.com'], 'www.dunlop.eu': ['myway.goodyear.com', 'www.facebook.com', 'news.goodyear.eu', 'corporate.goodyear.com', 'jobs.goodyear.com', 'www.sava-tires.com', 'www.goodyear.eu', 'www.fulda.com', 'www.hiqfleet.co.uk', 'www.instagram.com'], 'www.tirewarehouse.net': ['www.facebook.com', 'corporate.monro.com', 'twitter.com'], 'www.teamtractor.com': ['www.facebook.com', 'www.dealerspikeheavyequipment.com', 'www.pinterest.com', 'www.bbb.org', 'www.youtube.com', 'g.page', 'twitter.com', 'www.instagram.com'], 'www.trekbikes.com': [], 'www.flynnstire.com': ['flynnstire.us6.list-manage.com', 'www.facebook.com', 'toysforpittsburghtikes.com', 'www.youtube.com', 'flynnswholesale.com', 'workforcenow.adp.com', 'www.flynnscommercialtire.com', 'twitter.com', 'www.linkedin.com'], 'www.carlblackoforlando.com': ['www.cloudflare.com'], 'www.yourmechanic.com': ['facebook.com', 'recruiting.paylocity.com', 'www.instagram.com', 'apps.apple.com', 'twitter.com', 'www.amazon.com', 'justanswer.9pctbx.net', 'play.google.com', 'www.linkedin.com', 'www.fixaflat.com'], 'harristirecompany.com': [], 'www.fitzwaycarclinics.com': ['www.facebook.com', 'www.carsdirect.com', 'plus.google.com', 'txtire.com', 'www.youtube.com', 'goo.gl', 'www.tirereview.com'], 'www.deverinc.com': ['www.dealerspike.com', 'www.facebook.com', 'deverrentals.com', 'twitter.com', 'ezgo.txtsv.com', 'secure-financing.dealerspike.com', 'www.deverrentals.com'], 'www.campanellas.com': [], 'www.theautodoc.net': ['flic.kr', 'www.facebook.com', 'www.google.com', 'kukui.com', 'www.yelp.com', 'www.flickr.com', 'creativecommons.org'], 'www.drivparts.com': ['www.linkedin.com', 'www.facebook.com', 'www.fmmotorparts.com', 'www.youtube.com', 'twitter.com', 'www.instagram.com'], 'longviewautotire.com': ['www.facebook.com', 'www.google.com', 'www.youtube.com', 'twitter.com', 'kukui.com', 'www.yelp.com', 'www.flickr.com', 'creativecommons.org'], 'wrench.com': ['www.facebook.com', 'www.seattletimes.com', 'freshchalk.com', 'www.bizjournals.com', 'www.sandiegouniontribune.com', 'www.ktnv.com', 'www.geekwire.com', 'www.dailynews.com', 'www.ocregister.com', 'www.kiro7.com', 'www.kgw.com', 'gooddaysacramento.cbslocal.com', 'www.ratchetandwrench.com', 'recruiting.paylocity.com', 'seattle.crains.com', 'www.builtinseattle.com', 'www.king5.com', 'app.wrench.com', 'www.instagram.com', 'www.eastvalleytribune.com', 'twitter.com', 'www.kxan.com', 'www.yelp.com', 'www.chicagotribune.com', 'www.linkedin.com'], 'www.tateboys.com': [], 'www.reddit.com': ['redditinc.com', 'apps.apple.com', 'ads.reddit.com', 'www.redditinc.com', 'redditblog.com', 'play.google.com', 'www.reddithelp.com'], 'roadside.goodsam.com': ['www.goodsam.com', 'www.facebook.com', 'campingworld.com', 'travelassist.goodsam.com', 'www.tiktok.com', 'tireandwheel.goodsam.com', 'www.overtons.com', 'www.pinterest.com', 'community.goodsam.com', 'www.goodsamesp.com', 'www.instagram.com', 'investor.campingworld.com', 'myaccount.goodsam.com', 'www.campingworld.com', 'www.youtube.com', 'loans.goodsam.com', 'twitter.com', 'www.rvrentals.com', 'rv.campingworld.com'], 'dennisservicecenter.orgwww.midas.com': ['www.facebook.com', 'privacyportal.onetrust.com', 'midas-careers.careerplug.com', 'www.youtube.com', 'midasfranchise.com', 'www.instagram.com'], 'www.target.com': ['weeklyad.target.com'], 'www.copilotsearch.com': ['facebook.com', 'reddit.com', 'www.facebook.com', 'pixabay.com', 'internal-dlnk.onelink.me', 'pinterest.com', 'twitter.com', 'www.instagram.com'], 'tires.costco.com': [], 'www.landrys.com': ['www.facebook.com', 'booklandrysfitting.timetap.com', 'www.youtube.com', 'www.instagram.com', 'blog.landrys.com'], 'www.ntb.com': [], 'www.metromile.com': [], 'www.stp.com': ['www.facebook.com', 'www.energizerholdings.com', 'www.autocare.org', 'sds.chemdox.com', 'www.youtube.com', 'twitter.com', 'stpstore.com', 'www.instagram.com', 'energizergrouplegal.com'], 'premiotowingcompany.com': ['www.facebook.com', 'www.premiotowingcompany.com', 'www.reddit.com', 'youtu.be', 'plus.google.com', 'www.pinterest.com', 'premiotowing1.tumblr.com', 'forward', 'send', 'twitter.com', 'vk.com', 'partners.viadeo.com', 'www.tumblr.com', 'www.linkedin.com'], 'www.corwheels.com': ['reddit.com', 'www.facebook.com', 'www.instagram.com', 'www.youtube.com', 'corwheels.tumblr.com', 'pinterest.com', 'twitter.com', 'www.tumblr.com', 'www.linkedin.com'], 'www.amazon.com': [], 'www.kbb.com': ['b2b.kbb.com', 'www.facebook.com', 'www.kbb.com.br', 'channelstore.roku.com', 'www.coxautoinc.com', 'mediaroom.kbb.com', 'www.kbb.ca', 'www.youtube.com', 'jobs.coxenterprises.com', 'twitter.com', 'www.linkedin.com'], 'trailwheel.com': ['amzn.to', 'www.pinterest.com', 'www.youtube.com', 'twitter.com', 'onewheel.com', 'www.instagram.com'], 'bobparts.com': [], 'www.homedepot.com': [], 'www.cjponyparts.com': [], 'support.vanmoof.com': ['www.vanmoof.com'], 'www.mavis.com': ['www.weldontire.net'], 'treadconnection.com': ['www.linkedin.com', 'www.facebook.com', 'www.instagram.com', 'www.youtube.com'], 'www.ustires.org': ['www.facebook.com', 'sustainability.ustires.org', 'www.youtube.com', 'www.addtoany.com', 'www.twitter.com', 'members.ustires.org'], 'rnrtires.com': ['www.facebook.com', 'www.youtube.com', 'www.twitter.com', 'rnrfranchise.com', 'www.instagram.com'], 'motorweek.org': ['www.tirerack.com', 'www.facebook.com', 'www.autovalue.com', 'www.pbs.org', 'www.youtube.com', 'www.mpt.org', 'twitter.com', 'sutter-group.com', 'www.instagram.com'], 'completeautoloans.com': [], 'www.tireoutlet.com': ['www.facebook.com', 'instagram.com', 'careers-tireoutlet.icims.com', 'www.ustires.org', 'www.tireindustry.org', 'sites.google.com', 'pinterest.com', 'twitter.com', 'www.linkedin.com'], 'www.kumhotire.com': ['www.facebook.com', 'www.kumhotire.si', 'product.kumhotire.com', 'www.marshalthailand.com', 'blog.kumhotire.co.kr', 'www.youtube.com', 'www.kumhotyre.cz', 'www.marshaltire.com'], 'www.autozone.com': [], 'www.hondainfocenter.comsimplebikeinsurance.com': [], 'www.vipauto.com': [], 'postletire.com': ['PostleTire.com'], 'ell.stackexchange.com': ['law.stackexchange.com', 'www.facebook.com', 'chat.stackexchange.com', 'electronics.stackexchange.com', 'api.stackexchange.com', 'stackoverflow.blog', 'gis.stackexchange.com', 'data.stackexchange.com', 'stackoverflowteams.com', 'tex.stackexchange.com', 'mathematica.stackexchange.com', 'meta.stackexchange.com', 'scifi.stackexchange.com', 'retrocomputing.stackexchange.com', 'stackoverflow.com', 'linkedin.com', 'gaming.stackexchange.com', 'workplace.stackexchange.com', 'aviation.stackexchange.com', 'physics.stackexchange.com', 'try.stackoverflow.co', 'puzzling.stackexchange.com', 'rpg.stackexchange.com', 'www.instagram.com', 'mathoverflow.net', 'stackoverflow.co', 'serverfault.com', 'worldbuilding.stackexchange.com', 'webmasters.stackexchange.com', 'math.stackexchange.com', 'twitter.com', 'money.stackexchange.com', 'codegolf.stackexchange.com', 'ell.meta.stackexchange.com'], 'www.michelinman.com': ['cxf-prod.azureedge.net', 'www.facebook.com', 'www.tirerewardcenter.com', 'www.michelinearthmover.com', 'www.michelin.com', 'metro.michelin.com', 'www.youtube.com', 'michelinracingusa.com', 'www.tablethotels.com', 'jobs.michelinman.com', 'agricultural.michelinman.com', 'aircraft.michelin.com', 'twitter.com', 'business.michelinman.com', 'www.instagram.com', 'guide.michelin.com', 'www.michelinmedia.com'], 'www.rmigolfcarts.com': ['www.facebook.com'], 'en.wikipedia.org': ['www.teampansky.com', 'donate.wikimedia.org', 'www.wikidata.org', 'www.mediawiki.org', 'stats.wikimedia.org', 'www.oglecounty.org', 'foundation.wikimedia.org', 'zh-yue.wikipedia.org', 'developer.wikimedia.org', 'commons.wikimedia.org', 'en.wikiversity.org', 'en.wikibooks.org', 'wikimediafoundation.org', 'he.wikipedia.org', 'ja.wikipedia.org', 'en.wikivoyage.org', 'en.wiktionary.org', 'de.wikipedia.org', 'www.wikimediafoundation.org', 'www.diynetwork.com', 'www.breakdownrecovery.co.uk', 'en.m.wikipedia.org', 'fr.wikipedia.org', 'web.archive.org', 'meta.wikimedia.org', 'id.ndl.go.jp', 'zh.wikipedia.org'], 'www.dunntire.com': ['www.facebook.com', 'www.instagram.com', 'twitter.com', 'www.youtube.com'], 'shop.advanceautoparts.com': ['www.facebook.com', 'www.speedperks.com', 'twitter.com', 'stores.advanceautoparts.com', 'blog.advanceautoparts.com'], 'www.mbprinceton.com': ['www.cloudflare.com'], 'www.aventon.com': ['support.aventon.com', 'www.facebook.com', 'tracking.attentivemobile.com', 'www.youtube.com', 'twitter.com', 'b2b.aventon.com', 'rideaventon.zendesk.com', 'www.instagram.com'], 'www.tesla.com': [], 'www.walmart.com': ['corporate.walmart.com', 'help.walmart.com'], 'www.porschenorthscottsdale.com': ['www.facebook.com', 'www.jdpower.com', 'pixabay.com', 'www.dealeron.com', 'www.google.com', 'login.porsche.com', 'www.drive-safely.net', 'www.penskeautomotivecollision.com', 'www.youtube.com', 'www.yelp.com', 'www.porsche.com', 'twitter.com', 'maps.google.com', 'pagjobs.com', 'www.instagram.com'], 'www.cycleworld.com': ['cycleworld.us12.list-manage.com', 'www.facebook.com', 'teespring.com', 'www.pinterest.com', 'www.youtube.com', 'twitter.com', 'www.instagram.com', 'octane.co'], 'www.fleetfinancials.com': ['www.schoolbusfleet.com', 'www.facebook.com', 'www.government-fleet.com', 'www.bobit.com', 'www.fleetjobfinder.com', 'automotive-fleet.com', 'www.bobitmarketingsolutions.com', 'www.businessfleet.com', 'www.chargedfleet.com', 'www.bobitbusinessmedia.com', 'www.metro-magazine.com', 'www.automotive-fleet.com', 'www.fleetforward.com', 'info.wrightsmedia.com', 'vincentric.com', 'bob.dragonforms.com', 'directory.automotive-fleet.com', 'www.worktruckonline.com', 'www.truckinginfo.com', 'twitter.com'], 'www.continental-tires.com': ['www.facebook.com', 'www.continental-reifen.de', 'pk.continental-me.com', 'www.continental-na.com', 'www.continental-automotive.com', 'www.continental-tires.co.il', 'www.continental-tires.com.gh', 'www.continental-industry.com', 'www.continental-neumaticos.es', 'www.continental-pneumatici.it', 'jobs.continental.com', 'www.continental-tyres.co.uk', 'continental-me.com', 'www.instagram.com', 'www.continental-me.com', 'www.continental.mu', 'www.continental.com', 'www.continental-tyres.com.lk', 'www.continental-tyres.asia', 'www.continental-tyres.co.za', 'www.continental-tires.cn', 'www.youtube.com', 'twitter.com', 'www.conti.com.br', 'www.linkedin.com'], 'www.fjmercedes.com': ['www.cloudflare.com'], 'www.cvs.com': [], 'support.super73.com': ['www.facebook.com', 'privacy.super73.com', 'www.instagram.com', 'www.youtube.com'], 'www.bigotires.com': ['www.facebook.com', 'privacyportal.onetrust.com', 'www.bigofranchise.com', 'www.twitter.com', 'www.instagram.com'], 'apolloscooters.co': ['www.facebook.com', 'youtu.be', 'www.instagram.com', 'www.youtube.com', 'twitter.com', 'apolloscooters.bamboohr.com', 'apolloscooters.ca', 'apollo-help-center.gorgias.help', 'www.linkedin.com'], 'www.whatsinproducts.com': ['ww2.arb.ca.gov', 'archive.epa.gov', 'ntp.niehs.nih.gov', 'www.waterboards.ca.gov', 'cfpub.epa.gov', 'oehha.ca.gov', 'biomonitoring.ca.gov', 'govt.westlaw.com', 'echa.europa.eu', 'www.federalregister.gov', 'www.atsdr.cdc.gov', 'www.blackmagicshine.com'], 'www.mbontario.com': ['www.cloudflare.com'], 'forums.redflagdeals.com': ['www.redflagdeals.com', 'www.facebook.com', 'blackfriday.redflagdeals.com', 'www.verticalscope.com', 'www.carinstructions.com', 'www.sellmycar.ca', 'www.youtube.com', 'www.phpbb.com', 'boxingday.redflagdeals.com', 'twitter.com', 'go.redirectingat.com', 'creditcards.redflagdeals.com', 'www.instagram.com'], 'www.zorestowing.com': ['wordpress.org'], 'www.porschebeachwood.com': ['www.facebook.com', 'www.dealeron.com', 'www.google.com', 'www.instagram.com', 'www.youtube.com', 'www.yelp.com', 'my.porsche.com', 'www.porsche.com', 'twitter.com', 'maps.google.com', 'pagjobs.com', 'store.porschebeachwood.com', 'express.porschebeachwood.com'], 'www.gotodobbs.com': [], 'www.hogantire.com': ['support.cloudflare.com', 'www.cloudflare.com'], 'www.tipsfromatypicalmomblog.com': ['facebook.com', 'shareasale.com', 'www.actiontirecentre.com', 'momgoescamping.com', 'wholovesbabies.com', 'www.amazon.com', 'www.restored316designs.com', 'www.studiopress.com', 'instagram.com', 'strollerlist.com', 'www.strollerlab.net', 'pinterest.com', 'wordpress.org', 'reimaginingrascal.com', 'cheapdealsoftheday.info', 'www.bestjoggingstroller.reviews', 'www.mommystroller.com', 'thewholebaby.com', 'youtube.com', 'twitter.com', 'www.linkedin.com', 'restored316designs.com'], 'www.lowes.com': [], 'www.apexway.com.tw': ['bit.ly', 'www.ibest.com.tw'], 'www.schaeferautobody.com': ['www.linkedin.com', 'www.facebook.com', 'www.claysforcareers.org', 'www.addtoany.com', 'twitter.com', '5thgearce.com', 'www.instagram.com'], 'www.liveabout.com': ['privacy.truste.com', 'www.nysenate.gov', 'www.dotdashmeredith.com'], 'cascade.org': ['www.facebook.com', 'www.cbcmerchandise.com', 'www.youtube.com', 'email.cascade.org', 'cbcmerchandise.com', 'www.cascade.org', 'twitter.com', 'maps.google.com', 'www.flickr.com', 'www.instagram.com'], 'stopandshop.com': [], 'singlegirlsdiy.com': ['www.facebook.com', 'www.reddit.com', 'twitter.com', 'www.amazon.com', 'getpocket.com', 'singlegirlsdiy.podia.com'], 'www.rivianforums.com': [], 'www.yelp.com': ['www.yelpblog.com', 'yelp-ir.com', 'blog.yelp.com', 'trust.yelp.com', 'biz.yelp.com', 'www.acxiom.com', 'restaurants.yelp.com', 'business.yelp.com', 'www.yelp-support.com'], 'www.vioc.com': [], 'www.pellmansauto.com': [], 'www.streetdirectory.com': ['www.streetdirectory.com.my', 'www.streetdirectory.co.id', 'www.singaporejobsdb.com', 'www.street-directory.com'], 'www.rumriverauto.com': [], 'www.pothiermotors.com': ['www.facebook.com', 'www.instagram.com', 'twitter.com', 'www.autotrader.ca'], 'slime.com': ['www.facebook.com', 'www.youtube.com', 'buydirect.slime.com', 'twitter.com', 'www.instagram.com', 'www.itw.com'], 'www.speedstowingpdx.com': ['facebook.com', 'www.facebook.com', 'www.speedstowingauction.com', 'www.pinterest.com', 'www.youtube.com', 'goo.gl', 'pinterest.com', 'twitter.com', 'www.tumblr.com', 'www.instagram.com'], 'traveltalesoflife.com': [], 'www.mattcastruccinissan.com': ['www.nissanusa.com', 'www.facebook.com', 'www.dealerfire.com', 'nissanusa.com', 'www.youtube.com', 'www.edmunds.com', 'dealersocket.com', 'www.instagram.com'], 'www.vikingmotors.ca': ['www.cloudflare.com'], 'www.americastire.com': [], 'www.corvetteforum.com': ['www.facebook.com', 'www.internetbrandsauto.com', 'katzkin.com', 'store.corvetteforum.com', 'twitter.com', 'www.internetbrands.com', 'www.instagram.com'], 'tires.bjs.com': ['b2bsales.bjs.com', 'stocked.bjs.com', 'help.bjs.com', 'careers.bjs.com', 'app.rangeme.com', 'investors.bjs.com', 'bjswholesale.co1.qualtrics.com', 's22.q4cdn.com', 'newsroom.bjs.com', 'www.bjs.com', 'bjs.capitalone.com'], 'help.samsclub.com': ['www.samsclub.com'], 'www.tiktok.com': ['newsroom.tiktok.com', 'careers.tiktok.com', 'developers.tiktok.com', 'support.tiktok.com', 'effecthouse.tiktok.com'], 'continentaltire.com': ['continentaltire.custhelp.com', 'www.continental-truck.com', 'www.facebook.com', 'www.continental.com', 'www.totalconfidence-plan.com', 'register.roadsideprotect.com', 'www.youtube.com', 'twitter.com', 'continentaltire.ac-page.com', 'www.instagram.com'], 'cluballiance.aaa.com': ['www.aaa.com', 'discounts.aaa.com', 'aaa.rushmypassport.com', 'tourbook.aaa.com', 'www.aaacorporatetravel.com', 'play.google.com', 'shop.cluballiance.aaa.com', 'itunes.apple.com', 'mypolicyclub.digital.csaa-insurance.aaa.com', 'discounts.cluballiance.aaa.com', 'booktravel.cluballiance.aaa.com', 'www.fuzeqna.com', 'aca.memberdeals.com'], 'commercialtire.com': ['facebook.com', 'instagram.com', 'commercialtire.treadsearch.com', 'www.cfna.com', 'twitter.com', 'asacustomerconnect.com', 'pay.billingdoc.net'], 'www.mrtire.com': ['www.facebook.com', 'corporate.monro.com', 'twitter.com'], 'www.bestonetire.com': ['www.michelinman.com', 'www.bandag.com', 'corporate.goodyear.com', 'www.nexentireusa.com', 'generaltire.com', 'form.jotform.com', 'www.bestonecommercial.com', 'www.toyotires.com', 'www.firestonetire.com', 'www.bridgestonetire.com', 'www.mastercrafttires.com', 'www.continentaltire.com'], 'www.kwik-fit.com': ['www.facebook.com', 'www.kwik-fit.eu', 'www.youtube.com', 'www.kwik-fit.nl', 'twitter.com', 'www.instagram.com'], 'www.auffenberg.com': ['www.cloudflare.com'], 'www.mopar.com': ['www.facebook.com', 'www.fiatusa.com', 'www.moparrepairconnection.com', 'www.stellantis.com', 'www.jeep.com', 'www.amazon.com', 'www.wearmopar.com', 'www.chrysler.com', 'fcacommunity.force.com', 'fcagroup.my.site.com', 'www.fcagroupcareers.com', 'play.google.com', 'blog.mopar.com', 'www.pinterest.com', 'www.fcausautomobility.com', 'dcperformance.com', 'www.dealers-mopar.com', 'www.alfaromeousa.com', 'dealerconnect.chrysler.com', 'www.instagram.com', 'www.dodge.com', 'itunes.apple.com', 'store.mopar.com', 'www.youtube.com', 'www.twitter.com', 'www.ramtrucks.com', 'twitter.com', 'privacyportal-cdn.onetrust.com'], 'www.caranddriver.com': [], 'www.carmart.ng': ['instagram.com', 'www.facebook.com', 'i0.wp.com', 'www.instagram.com', 'pinterest.com', 'twitter.com', 'www.tumblr.com', 'www.linkedin.com'], 'www.geico.com': [], 'www.inglewoodrepairs.com': ['www.copyscape.com', 'www.facebook.com', 'www.nolenwalker.com', 'plus.google.com', 'www.autoshopwebmasters.com', 'statcounter.com', 'twitter.com'], 'www.allstate.com': ['www.facebook.com', 'allstatehealth.com', 'agents.allstate.com', 'www.allstatecorporation.com', 'myaccountrwd.allstate.com', 'goreadyinsurance.com', 'www.arity.com', 'www.answerfinancial.com', 'www.encompassinsurance.com', 'manageroadside.allstate.com', 'www.accessallstate.com', 'www.allstaterewards.com', 'quote.embracepetinsurance.com', 'purchase.allstate.com', 'www.markelinsurance.com', 'roadside.allstate.com', 'allstateflood.com', 'availcarsharing.com', 'www.instagram.com', 'nationalgeneral.com', 'www.youtube.com', 'www.twitter.com', 'www.linkedin.com', 'espanol.allstate.com'], 'www.mbchevymetairie.com': ['www.facebook.com', 'www.google.com', 'accessories.gm.com', 'www.youtube.com', 'www.microsoft.com', 'parts.gmparts.com', 'blogs.windows.com', 'www.instagram.com', 'www.mozilla.org'], 'www.toyotaofdowntownla.com': ['www.cloudflare.com'], 'www.halfords.com': [], 'www.mariettatoyota.com': ['www.cloudflare.com'], 'www.fitandfix.com': ['bit.ly', 'wa.me', 'www.facebook.com', 'blog.fitandfix.com', 'www.youtube.com', 'apple.co', 'www.instagram.com'], 'wranglertjforum.com': []}\n"
     ]
    }
   ],
   "source": [
    "function csv_to_dict(path)\n",
    "    node_dict = Dict{String, Vector{String}}()\n",
    "\n",
    "    # Open the file and read line by line\n",
    "    open(path, \"r\") do file\n",
    "        for line in eachline(file)\n",
    "            # Split the line by comma and strip whitespace\n",
    "            entries = split(strip(line), ',')\n",
    "\n",
    "            # Check if the line is not empty and then process\n",
    "            if !isempty(entries)\n",
    "                key = entries[1]\n",
    "                values = entries[2:end]\n",
    "\n",
    "                # Add to the dictionary\n",
    "                node_dict[key] = get(node_dict, key, String[]) |> x -> union(x, values)\n",
    "            end\n",
    "        end\n",
    "    end\n",
    "\n",
    "    return node_dict\n",
    "end\n",
    "\n",
    "node_dict = csv_to_dict(\"temp.csv\")\n",
    "println(node_dict)"
   ]
  },
  {
   "cell_type": "markdown",
   "metadata": {},
   "source": [
    "#### Main function that creates the CSV graph\n",
    "\n",
    "Parses the dictionary and gets the indices of all the connections, writing them into a file."
   ]
  },
  {
   "cell_type": "code",
   "execution_count": 29,
   "metadata": {},
   "outputs": [],
   "source": [
    "function create_csv_dataset(path)\n",
    "    # Open the file for writing\n",
    "    open(path, \"w\") do file\n",
    "        for (n, connections) in node_dict\n",
    "            indexed_connections = String[]\n",
    "\n",
    "            for c in connections\n",
    "                if c in keys\n",
    "                    push!(indexed_connections, string(findfirst(==(c), keys)))\n",
    "                end\n",
    "            end\n",
    "\n",
    "            # Write to file\n",
    "            write(file, join(indexed_connections, \", \"))\n",
    "            write(file, \"\\n\")\n",
    "        end\n",
    "    end\n",
    "end\n",
    "\n",
    "create_csv_dataset(\"test.csv\")"
   ]
  }
 ],
 "metadata": {
  "kernelspec": {
   "display_name": "Julia 1.9.2",
   "language": "julia",
   "name": "julia-1.9"
  },
  "language_info": {
   "file_extension": ".jl",
   "mimetype": "application/julia",
   "name": "julia",
   "version": "1.9.2"
  }
 },
 "nbformat": 4,
 "nbformat_minor": 2
}
