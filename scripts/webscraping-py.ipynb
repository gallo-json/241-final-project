{
 "cells": [
  {
   "cell_type": "markdown",
   "metadata": {},
   "source": [
    "#### Quick python script that creates a realistic website CSV dataset\n",
    "\n",
    "The goal for this script is to create a realistic graph with real websites. We scrape a set of websites, and for each website, we find all the hyperlinks. These are the node connections. Then we build the CSV dataset from there. This graph dataset will then be fed into our algorithm in `pagerank.ipynb`.\n",
    "\n",
    "The resulting CSV dataset is very sparse, unlike the densely connected graph that `generator.py` creates artificially.\n",
    "\n",
    "Note that this section is done in Python as Julia does not have good web scraping capabilities."
   ]
  },
  {
   "cell_type": "code",
   "execution_count": 1,
   "metadata": {},
   "outputs": [],
   "source": [
    "# What you want to search\n",
    "query = \"how to fix a flat tire\"\n",
    "# How many results do you want\n",
    "num_nodes = 200"
   ]
  },
  {
   "cell_type": "code",
   "execution_count": 2,
   "metadata": {},
   "outputs": [],
   "source": [
    "from googlesearch import search\n",
    "import requests\n",
    "from bs4 import BeautifulSoup\n",
    "from urllib.parse import urlparse\n",
    "import time"
   ]
  },
  {
   "cell_type": "markdown",
   "metadata": {},
   "source": [
    "Scrape all the websites that will be used for our nodes. We can do a quick Google search.\n",
    "\n",
    "Keep in mind that sometimes Google blocks this script because we are querying too rapidly, and it detects that we are a bot. So there is a cooldown time period.\n",
    "\n",
    "An interesting benchmark for our PageRank algorithm would be how close our results are to a real Google search."
   ]
  },
  {
   "cell_type": "code",
   "execution_count": 3,
   "metadata": {},
   "outputs": [],
   "source": [
    "results = []\n",
    "links_path = \"links.txt\"\n",
    "\n",
    "with open(links_path, 'w') as file:\n",
    "    for i in search(query, sleep_interval=5, num_results=num_nodes):\n",
    "        file.write(i + '\\n')\n",
    "        results.append(i)"
   ]
  },
  {
   "cell_type": "code",
   "execution_count": 4,
   "metadata": {},
   "outputs": [
    {
     "name": "stdout",
     "output_type": "stream",
     "text": [
      "['https://www.wikihow.com/Fix-a-Flat-Tire', 'https://www.quora.com/How-can-you-fix-a-flat-tire-on-your-car-without-taking-it-off-and-having-it-towed-somewhere', 'https://techtirerepairs.com/flat-tire-how-to-safely-fix/', 'https://www.quora.com/What-can-I-do-to-fix-a-flat-tire-in-the-middle-of-nowhere', 'https://www.mach1services.com/fix-a-flat-tire-at-home/', 'https://germaniainsurance.com/blogs/post/germania-insurance-blog/2021/01/29/how-to-fix-a-flat-tire-what-to-do-if-you-have-a-flat-and-no-spare', 'https://www.amfam.com/resources/articles/on-the-road/11-steps-to-fix-a-flat-tire', 'https://www.progressive.com/lifelanes/on-the-road/how-to-fix-a-flat-tire/', 'https://www.sullivantire.com/blog/tires/proper-tire-repair', 'https://www.bicycling.com/repair/a20013517/bike-repair-how-to-fix-a-flat-tire/', 'https://www.tires-easy.com/blog/how-to-fix-a-flat-tire/', 'https://blog.napacanada.com/en/how-to-fix-a-flat-tire/', 'https://www.bridgestonetire.com/learn/maintenance/how-to-change-a-flat-tire/', 'https://www.rei.com/learn/expert-advice/flat-tire.html', 'https://velosurance.com/blog/how-fix-flat-bicycle-tire/', 'https://www.lesschwab.com/article/tires/les-schwab-tech-tip-how-flat-tire-repair-works.html', 'https://www.millerautoplaza.com/stuck-with-a-flat-tire-heres-how-to-change-a-tire-in-10-steps/', 'https://knowhow.napaonline.com/how-to-fix-a-flat-tire/', 'https://www.fixaflat.com/pages/how-to-install-fix-a-flat', 'https://www.trekchicago.com/how-to/how-to-fix-a-flat-tire-pg333.htm', 'https://carfromjapan.com/article/car-maintenance/fix-flat-tire-step-step-instructions/', 'https://www.pirelli.com/tires/en-us/car/driving-and-tire-tips/safety/flat-tire', 'https://www.popularmechanics.com/cars/a39228470/flat-tire-repair/', 'https://www.azdiyguy.com/blog//2014/07/fix-easy-trick-fix-flat-utility-tire.html', 'https://www.rac.co.uk/drive/advice/car-maintenance/repair-a-flat-tyre/', 'https://www.pepboys.com/tires/tire-care/changing-flat-tire', 'https://blog.clutch.ca/posts/tire-repair', 'https://www.kaltire.com/en/repair-tire-puncture.html', 'https://www.digitaltrends.com/cars/how-to-fix-a-flat-tire-on-your-car/', 'https://selleanatomica.com/blogs/homepage-blog/what-to-do-about-fixing-a-flat-bike-tire-while-out-on-a-ride', 'https://www.chapelhilltire.com/flat-tire/', 'https://www.utires.com/articles/how-are-car-tires-patched/', 'https://www.tirerack.com/upgrade-garage/can-flat-tires-be-repaired', 'https://eleglide.com/blogs/blog/how-to-fix-a-flat-tire-a-step-by-step-guide', 'https://www.goodyear.com/en_US/learn/tire-care-maintenance/how-to-fix-a-flat-tire.html', 'https://www.repairsmith.com/i/blog/how-to-fix-a-flat-tire/', 'https://www.hagerty.com/media/videos/fix-flat-tire-diy-tire-plugs/', 'https://www.bigbrandtire.com/car-services/flat-repair', 'https://www.firestonecompleteautocare.com/tires/tire-info/how-to-fix-a-flat-tire/', 'https://www.liv-cycling.com/global/campaigns/how-to-fix-a-flat-tire-tubeless/25294', 'https://eliteautorepairtempe.com/blog/how-do-flat-tire-repairs-work-', 'https://www.scottclarkstoyota.com/blogs/207/how-to-fix-a-flat-tire/', 'https://www.carhop.com/news/how-to-fix-a-flat-tire/', 'https://www.goodyearautoservice.com/en_US/services/tire-repair/155128.html', 'https://carloversautomotive.com/how-to-fix-a-flat-tire-with-ease/', 'https://www.matthewstire.com/resources/change-tire/', 'https://topdriver.com/education-blog/12-steps-for-fixing-damaged-tire/', 'https://www.instructables.com/How-to-Fix-a-Flat-Tire/', 'https://www.tireagent.com/blog/when-to-patch-plug-repair-a-tire', 'https://retail.wonderlandtire.com/Blog/ArticleID/297/How-To-Fix-a-Flat-Tire', 'https://www.bikeride.com/fix-flat-tire/', 'https://www.carfax.com/blog/how-to-deal-with-a-flat-tire', 'https://www.revzilla.com/common-tread/how-to-repair-a-flat-tire-on-the-road', 'https://www.discounttire.com/learn/tire-repair', 'https://www.dealnews.com/features/Heres-Why-You-Should-Think-Twice-Before-Using-Tire-Sealant/1742217.html', 'https://www.keystonechevrolet.com/fix-a-nail-in-your-tire/', 'https://www.fixaflat.com/', 'https://www.mmtires.com/fix-flat-tire-guide/', 'https://www.americantiredepot.com/car-services/flat-repair', 'https://www.unitedautoinsurance.com/how-to-change-a-flat-tire/', 'https://www.petersenshunting.com/editorial/how-to-fix-flat-tire-in-field/452960', 'https://www.oreillyauto.com/fix-a-flat', 'https://www.jiffylube.com/auto-services/tires/tire-repair', 'https://www.alltechautomotive.com/blog/how-to-use-fix-a-flat', 'https://www.tirebarn.com/services/flat-tire-repair/', 'https://www.roadbikerider.com/fixing-clincher-flats-the-fast-way-d3/', 'https://www.bigltireco.com/About/News-Center/ArticleID/8055/What-to-Do-if-You-Have-a-Flat-Tire', 'https://www.yokohamatire.com/tires-101/maintenance-care-1/flat-tire-repair', 'https://www.tirekingdom.com/product/prod10263/tire-repair-test', 'https://www.goldeagle.com/tips-tools/how-properly-fix-flat-tire/', 'https://blog.nationwide.com/vehicle/vehicle-maintenance/flat-tire-no-spare/', 'https://getresqued.com/blog/what-to-do-and-who-to-call-when-you-have-a-flat-tire', 'https://townfairtire.com/information/tire-repair/repairing-a-flat-tire/index.shtml', 'https://www.tiresplus.com/auto-repair-services/tire-repair-service/', 'https://www.justtires.com/en_US/services/tire-repair/155128.html', 'https://www.dunlop.eu/en_gb/consumer/learn/fixing-a-flat-tire.html', 'https://www.tirewarehouse.net/services/flat-tire-repair/', 'https://www.teamtractor.com/blog/how-to-fix-a-lawn-tractor-flat-tire--33800', 'https://www.trekbikes.com/us/en_US/road_buyers_guide/fix_a_flat/', 'https://www.flynnstire.com/services/20/Tire-Repairs/', 'https://www.carlblackoforlando.com/blog/how-does-fix-a-flat-work/', 'https://www.yourmechanic.com/article/how-to-use-fix-a-flat-on-a-flat-car-tire', 'https://harristirecompany.com/what-to-do-when-you-get-a-flat-tire/', 'https://www.fitzwaycarclinics.com/tire-repair/', 'https://www.deverinc.com/blog/how-to-fix-a-flat-tire-on-your-golf-cart--31141', 'https://www.campanellas.com/blog/tire-repair-with-fixaflat-use-caution', 'https://www.theautodoc.net/blog/what-kind-of-tire-repairs-are-needed-for-flat-tires', 'https://www.drivparts.com/parts-matter/learning-center/by-the-numbers/changing-flat-tire.html', 'https://longviewautotire.com/blog/is-it-better-to-repair-or-replace-a-flat-tire-', 'https://wrench.com/service/flat-tire-repair/', 'https://www.tateboys.com/tires/flat-tire-repair/', 'https://www.reddit.com/r/Costco/comments/122pvdx/tire_center_will_not_repair_a_tire_that_contains/', 'https://roadside.goodsam.com/resources/what-to-do-if-you-have-a-flat-tire', 'https://dennisservicecenter.org/fix-flat-tire-7-simple-steps/', 'https://www.midas.com/auto-repair-services/tire-wheel-service/flat-tire-repair', 'https://www.target.com/p/fix-a-flat-16oz-sedan-and-coupe-tire-inflator/-/A-14461116', 'https://www.drivparts.com/parts-matter/learning-center/by-the-numbers/changing-flat-tire.html', 'https://longviewautotire.com/blog/is-it-better-to-repair-or-replace-a-flat-tire-', 'https://wrench.com/service/flat-tire-repair/', 'https://www.tateboys.com/tires/flat-tire-repair/', 'https://roadside.goodsam.com/resources/what-to-do-if-you-have-a-flat-tire', 'https://dennisservicecenter.org/fix-flat-tire-7-simple-steps/', 'https://www.midas.com/auto-repair-services/tire-wheel-service/flat-tire-repair', 'https://www.target.com/p/fix-a-flat-16oz-sedan-and-coupe-tire-inflator/-/A-14461116', 'https://www.copilotsearch.com/posts/how-long-does-it-take-a-fix-a-flat-tire/', 'https://tires.costco.com/TireTips', 'https://www.landrys.com/articles/fixing-a-flat-tire-pg116.htm', 'https://www.ntb.com/info/a320004/tire-plug-repairs', 'https://www.metromile.com/blog/car-maintenance-flat-tire-repair/', 'https://www.stp.com/product/tire-fix/', 'https://premiotowingcompany.com/towing-service/flat-tire-repair/dont-fix-your-flat-tire-with-a-sealant/', 'https://www.corwheels.com/how-does-fix-a-flat-work/', 'https://www.amazon.com/Fix-Flat-S60430-Inflator-Eco-Friendly/dp/B01FX5TKGQ', 'https://www.kbb.com/service-repair-guide/tire-repair-costs/', 'https://trailwheel.com/fix-a-flat-tire-on-a-onewheel-how-to/', 'https://bobparts.com/flat-tires-how-to-fix-them/', 'https://www.homedepot.com/p/Fix-A-Flat-16-oz-Eco-Friendly-Tire-Inflator-S60420/300060704', 'https://www.cjponyparts.com/resources/how-to-patch-tire', 'https://support.vanmoof.com/en/support/solutions/articles/44002241901-how-to-fix-a-flat-tire', 'https://www.mavis.com/service/tire-repair/', 'https://treadconnection.com/flat-repair/', 'https://www.ustires.org/tire-repair-basics', 'https://rnrtires.com/services/flat-tire-repair/', 'https://motorweek.org/goss_garage/flat_tires_-_to_plug_or_not_to_plug/', 'https://completeautoloans.com/blog/fix-flat-tire-repair-instructions/', 'https://www.tireoutlet.com/blog/2975/should-you-plug-or-patch-your-tire/', 'https://www.kumhotire.com/ms/cont/content.do?menuCd=MN000692', 'https://www.autozone.com/tire-repair-and-tire-wheel/fix-a-flat-and-tire-sealer', 'https://www.hondainfocenter.com/2022/Insight/How-To-Videos/EX/Notable-Features/How-to-Use-the-Tire-Repair-Kit/', 'https://simplebikeinsurance.com/how-to-fix-flat-bicycle-tire/', 'https://www.vipauto.com/services/flat-repair/', 'https://postletire.com/fix-a-flat-pros-and-cons/', 'https://ell.stackexchange.com/questions/89548/fixing-a-flat-tire', 'https://www.michelinman.com/auto/auto-tips-and-advice/tire-maintenance/can-my-tire-be-repaired', 'https://www.rmigolfcarts.com/blogs/news/how-to-fix-a-golf-cart-flat-tire', 'https://en.wikipedia.org/wiki/Flat_tire', 'https://www.dunntire.com/services/flat-tire-repair', 'https://shop.advanceautoparts.com/brands/fix-a-flat', 'https://www.mbprinceton.com/what-to-do-if-you-get-a-flat-tire/', 'https://www.aventon.com/blogs/aventon_bikes/how-to-fix-a-flat-ebike-tire-tubed-and-tubeless-tires', 'https://www.tesla.com/support/tire-repair-and-maintenance', 'https://www.walmart.com/ip/Fix-A-Flat-Tire-Sealant-16oz-Standard-Tires-S60420/198298503', 'https://www.porschenorthscottsdale.com/blogs/4011/what-should-you-do-if-your-porsche-gets-a-flat-tire/', 'https://www.cycleworld.com/2015/09/30/three-ways-how-to-fix-a-motorcycle-flat-tire-adventure-bike-tips/', 'https://www.fleetfinancials.com/321397/deciding-to-repair-or-replace-run-flat-tires', 'https://www.continental-tires.com/products/b2c/tire-knowledge/tire-repair/', 'https://www.fjmercedes.com/tire-center/mercedes-benz-flat-tire-repair/', 'https://www.cvs.com/shop/fix-a-flat-with-hose-16oz-prodid-1780393', 'https://support.super73.com/hc/en-us/articles/4403783467283-How-to-Fix-a-Flat-on-a-SUPER73-Tire', 'https://www.bigotires.com/services/tire-service-and-repair/tire-repair', 'https://apolloscooters.co/blogs/news/electric-scooter-tire-repairs-how-to-fix-flats-and-replace-tires', 'https://www.whatsinproducts.com/types/type_detail/1/10925/standard/span%20style=%22color:', 'https://www.mbontario.com/tire-center/mercedes-benz-flat-tire-repair/', 'https://forums.redflagdeals.com/where-get-flat-tire-fix-885580/', 'https://www.zorestowing.com/blog/how-to-patch-a-flat-tire-using-a-tire-plug-kit/', 'https://www.porschebeachwood.com/blogs/3559/3-things-to-do-if-your-porsche-gets-a-flat-tire/', 'https://www.gotodobbs.com/auto-service/flat-repair/', 'https://www.hogantire.com/Auto-Service/cat/tire-services/svc/tire-repair', 'https://www.tipsfromatypicalmomblog.com/2014/07/fix-flat-jogging-stroller-tire.html', 'https://www.lowes.com/pd/Fix-A-Flat-16-oz-Fix-A-Flat-hose-connect-Eco-Friendly-Formula/1001073702', 'https://www.apexway.com.tw/blog-detail/how_much_does_it_cost_to_get_a_tire_repair/', 'https://www.schaeferautobody.com/how-to-change-a-flat-tire-in-under-15-minutes/', 'https://www.liveabout.com/tire-repair-plugging-vs-patching-3234382', 'https://cascade.org/fix-flat', 'https://stopandshop.com/groceries/home-office/tools-hardware-auto/automotive-needs/more-automotive-needs/fix-a-flat-standard-tire-sealant-16-oz-can.html', 'https://singlegirlsdiy.com/how-to-fix-flat-tire-on-snowblower/', 'https://www.rivianforums.com/forum/threads/fix-flat-in-a-can-substitute-for-compact-spare-tire.21498/', 'https://www.yelp.com/search?find_desc=Flat+Tire+Repair&find_loc=Los+Angeles%2C+CA', 'https://www.vioc.com/faq/do-you-sell-tires', 'https://www.pellmansauto.com/teen-get-flat-tire', 'https://www.streetdirectory.com/travel_guide/60494/motorcycles/repairing_flat_tires_on_a_scooter.html', 'https://www.rumriverauto.com/tips-blog/how-much-does-flat-tire-repair-cost', 'https://www.pothiermotors.com/service-what-to-do-when-you-have-a-flat-tire/', 'https://slime.com/pages/how-to-install-slime-tire-sealant', 'https://www.speedstowingpdx.com/blog/can-towing-companies-fix-a-flat-tire/', 'https://traveltalesoflife.com/what-to-do-if-you-have-a-flat-tire-and-no-spare/', 'https://www.mattcastruccinissan.com/blog/how-to-change-a-flat-tire/', 'https://www.vikingmotors.ca/this-is-what-happens-if-you-drive-on-a-flat-tire/', 'https://www.americastire.com/', 'https://www.corvetteforum.com/forums/c4-general-discussion/4786588-flat-tire.html', 'https://tires.bjs.com/tire-promise/', 'https://help.samsclub.com/app/answers/detail/a_id/2659/~/sams-club-tire-%26-battery-center-services', 'https://www.tiktok.com/discover/how-to-repair-a-flat-tire-in-call-of-duty-zombies', 'https://continentaltire.com/warranty', 'https://cluballiance.aaa.com/automotive/roadside-assistance', 'https://commercialtire.com/', 'https://www.mrtire.com/promotions-coupons/', 'https://www.bestonetire.com/', 'https://www.kwik-fit.com/tyres/information/tyre-repair', 'https://www.auffenberg.com/service/service-tips/reset-tire-pressure-light/', 'https://www.mopar.com/en-us/services/tire-services.html', 'https://www.caranddriver.com/car-accessories/g42589683/best-portable-tire-inflators-tested/', 'https://www.carmart.ng/blog/heres-how-to-change-a-flat-car-tire-when-you-are-stuck-in-the-middle-of-nowhere', 'https://www.geico.com/auto-insurance/emergency-road-service/', 'https://www.inglewoodrepairs.com/blog/', 'https://www.allstate.com/roadside-assistance', 'https://www.mbchevymetairie.com/chevy-service-tire-monitor-system', 'https://www.toyotaofdowntownla.com/service/service-tips/toyota-tire-pressure-light/', 'https://www.halfords.com/car-repairs/tyres-services/car-puncture-repair-PRODUCTPUNCTUREREPAIR.html', 'https://www.mariettatoyota.com/service/service-tips-tricks/how-to-reset-tire-pressure-light/', 'https://www.fitandfix.com/', 'https://wranglertjforum.com/threads/youre-not-the-only-one-a-thread-about-fails.74987/page-3']\n",
      "['www.wikihow.com', 'www.quora.com', 'techtirerepairs.com', 'www.quora.com', 'www.mach1services.com', 'germaniainsurance.com', 'www.amfam.com', 'www.progressive.com', 'www.sullivantire.com', 'www.bicycling.com', 'www.tires-easy.com', 'blog.napacanada.com', 'www.bridgestonetire.com', 'www.rei.com', 'velosurance.com', 'www.lesschwab.com', 'www.millerautoplaza.com', 'knowhow.napaonline.com', 'www.fixaflat.com', 'www.trekchicago.com', 'carfromjapan.com', 'www.pirelli.com', 'www.popularmechanics.com', 'www.azdiyguy.com', 'www.rac.co.uk', 'www.pepboys.com', 'blog.clutch.ca', 'www.kaltire.com', 'www.digitaltrends.com', 'selleanatomica.com', 'www.chapelhilltire.com', 'www.utires.com', 'www.tirerack.com', 'eleglide.com', 'www.goodyear.com', 'www.repairsmith.com', 'www.hagerty.com', 'www.bigbrandtire.com', 'www.firestonecompleteautocare.com', 'www.liv-cycling.com', 'eliteautorepairtempe.com', 'www.scottclarkstoyota.com', 'www.carhop.com', 'www.goodyearautoservice.com', 'carloversautomotive.com', 'www.matthewstire.com', 'topdriver.com', 'www.instructables.com', 'www.tireagent.com', 'retail.wonderlandtire.com', 'www.bikeride.com', 'www.carfax.com', 'www.revzilla.com', 'www.discounttire.com', 'www.dealnews.com', 'www.keystonechevrolet.com', 'www.fixaflat.com', 'www.mmtires.com', 'www.americantiredepot.com', 'www.unitedautoinsurance.com', 'www.petersenshunting.com', 'www.oreillyauto.com', 'www.jiffylube.com', 'www.alltechautomotive.com', 'www.tirebarn.com', 'www.roadbikerider.com', 'www.bigltireco.com', 'www.yokohamatire.com', 'www.tirekingdom.com', 'www.goldeagle.com', 'blog.nationwide.com', 'getresqued.com', 'townfairtire.com', 'www.tiresplus.com', 'www.justtires.com', 'www.dunlop.eu', 'www.tirewarehouse.net', 'www.teamtractor.com', 'www.trekbikes.com', 'www.flynnstire.com', 'www.carlblackoforlando.com', 'www.yourmechanic.com', 'harristirecompany.com', 'www.fitzwaycarclinics.com', 'www.deverinc.com', 'www.campanellas.com', 'www.theautodoc.net', 'www.drivparts.com', 'longviewautotire.com', 'wrench.com', 'www.tateboys.com', 'www.reddit.com', 'roadside.goodsam.com', 'dennisservicecenter.org', 'www.midas.com', 'www.target.com', 'www.drivparts.com', 'longviewautotire.com', 'wrench.com', 'www.tateboys.com', 'roadside.goodsam.com', 'dennisservicecenter.org', 'www.midas.com', 'www.target.com', 'www.copilotsearch.com', 'tires.costco.com', 'www.landrys.com', 'www.ntb.com', 'www.metromile.com', 'www.stp.com', 'premiotowingcompany.com', 'www.corwheels.com', 'www.amazon.com', 'www.kbb.com', 'trailwheel.com', 'bobparts.com', 'www.homedepot.com', 'www.cjponyparts.com', 'support.vanmoof.com', 'www.mavis.com', 'treadconnection.com', 'www.ustires.org', 'rnrtires.com', 'motorweek.org', 'completeautoloans.com', 'www.tireoutlet.com', 'www.kumhotire.com', 'www.autozone.com', 'www.hondainfocenter.com', 'simplebikeinsurance.com', 'www.vipauto.com', 'postletire.com', 'ell.stackexchange.com', 'www.michelinman.com', 'www.rmigolfcarts.com', 'en.wikipedia.org', 'www.dunntire.com', 'shop.advanceautoparts.com', 'www.mbprinceton.com', 'www.aventon.com', 'www.tesla.com', 'www.walmart.com', 'www.porschenorthscottsdale.com', 'www.cycleworld.com', 'www.fleetfinancials.com', 'www.continental-tires.com', 'www.fjmercedes.com', 'www.cvs.com', 'support.super73.com', 'www.bigotires.com', 'apolloscooters.co', 'www.whatsinproducts.com', 'www.mbontario.com', 'forums.redflagdeals.com', 'www.zorestowing.com', 'www.porschebeachwood.com', 'www.gotodobbs.com', 'www.hogantire.com', 'www.tipsfromatypicalmomblog.com', 'www.lowes.com', 'www.apexway.com.tw', 'www.schaeferautobody.com', 'www.liveabout.com', 'cascade.org', 'stopandshop.com', 'singlegirlsdiy.com', 'www.rivianforums.com', 'www.yelp.com', 'www.vioc.com', 'www.pellmansauto.com', 'www.streetdirectory.com', 'www.rumriverauto.com', 'www.pothiermotors.com', 'slime.com', 'www.speedstowingpdx.com', 'traveltalesoflife.com', 'www.mattcastruccinissan.com', 'www.vikingmotors.ca', 'www.americastire.com', 'www.corvetteforum.com', 'tires.bjs.com', 'help.samsclub.com', 'www.tiktok.com', 'continentaltire.com', 'cluballiance.aaa.com', 'commercialtire.com', 'www.mrtire.com', 'www.bestonetire.com', 'www.kwik-fit.com', 'www.auffenberg.com', 'www.mopar.com', 'www.caranddriver.com', 'www.carmart.ng', 'www.geico.com', 'www.inglewoodrepairs.com', 'www.allstate.com', 'www.mbchevymetairie.com', 'www.toyotaofdowntownla.com', 'www.halfords.com', 'www.mariettatoyota.com', 'www.fitandfix.com', 'wranglertjforum.com']\n"
     ]
    }
   ],
   "source": [
    "print(results)\n",
    "keys = [urlparse(f).netloc for f in results]\n",
    "print(keys)"
   ]
  },
  {
   "cell_type": "markdown",
   "metadata": {},
   "source": [
    "#### Helper function that gets all the hyperlinks from a web page\n",
    "\n",
    "The popularity of a website is determined by how much other websites reference it (how many connections that node has). This function scrapes the website for any URLs it makes reference to. \n",
    "\n",
    "One cool thing we do is we ignore all the hyperlinks that reference its own website. For example, the webpage\n",
    "\n",
    "`https://www.reliancedigital.in/solutionbox/how-to-diagnose-laptop-problems-and-fix-them/`\n",
    "\n",
    "Has the following hyperlinks inside its own text:\n",
    "```\n",
    "https://www.reliancedigital.in/solutionbox/category/product-reviews/\n",
    "https://www.reliancedigital.in/solutionbox/category/product-reviews/mobiles-tablets-reviews/\n",
    "https://www.reliancedigital.in/solutionbox/category/product-reviews/computers-laptops-product-review/\n",
    "https://www.reliancedigital.in/solutionbox/category/product-reviews/tv-audio-product-reviews/\n",
    "\n",
    "...\n",
    "\n",
    "https://www.reliancedigital.in/solutionbox/category/buying-guides/home-appliances-buying-guides/\n",
    "https://www.reliancedigital.in/solutionbox/category/buying-guides/health-personalcare/\n",
    "https://www.reliancedigital.in/solutionbox/category/buying-guides/batteries-juice-packs/\n",
    "https://www.reliancedigital.in/solutionbox/category/buying-guides/gaming-buying-guides/ \n",
    "```\n",
    "\n",
    "and many, many more that come from the same domain, `reliancedigital.in`. We only want to count this domain name once as a result, because it we counting it multiple times, it will blow up its own popularity in the graph because it keeps referencing itself. This will skew our PageRank algorithm findings as it'll think this website is really popular because it keeps getting referenced, but in reality its just referencing itself (almost like cheating). \n",
    "\n",
    "So we filter all the hyperlinks that come from the same domain. That way we keep the hyperlinks that really come from other sources, and that adds variety to the graph and is a more representative showing of popularity."
   ]
  },
  {
   "cell_type": "code",
   "execution_count": 5,
   "metadata": {},
   "outputs": [],
   "source": [
    "def get_all_hyperlinks(url):\n",
    "    reqs = requests.get(url)\n",
    "    soup = BeautifulSoup(reqs.text, 'html.parser')\n",
    "    \n",
    "    urls = []\n",
    "    for link in soup.find_all('a'):\n",
    "        hyperlink = link.get('href')\n",
    "        domain_name = urlparse(hyperlink).netloc\n",
    "        \n",
    "        # Sometimes the query results mess up\n",
    "        # So keep on running instead of throwing an Exception\n",
    "        try:\n",
    "            # Filter out all the hyperlinks that reference themselves\n",
    "            if domain_name not in url:\n",
    "                urls.append(urlparse(hyperlink).netloc)\n",
    "        except TypeError:\n",
    "            continue # Onto the next link\n",
    "\n",
    "    return urls"
   ]
  },
  {
   "cell_type": "markdown",
   "metadata": {},
   "source": [
    "#### Helper function that makes a temp CSV file to store data so far\n",
    "\n",
    "We store the data in a file as a intermediary instead of in a variable."
   ]
  },
  {
   "cell_type": "code",
   "execution_count": 26,
   "metadata": {},
   "outputs": [],
   "source": [
    "def make_nodes(path):\n",
    "    with open(\"links.txt\", 'r') as fp:\n",
    "        lines = fp.readlines()\n",
    "\n",
    "    with open(path, 'w') as fp:     \n",
    "        for i in range(141, len(lines)):\n",
    "            try:\n",
    "                print(i)\n",
    "                fp.write(keys[i].rstrip())\n",
    "\n",
    "                hlinks = get_all_hyperlinks(lines[i].rstrip())\n",
    "\n",
    "                for l in hlinks:\n",
    "                    fp.write(\", \" + l)\n",
    "                \n",
    "                fp.write(\"\\n\")\n",
    "\n",
    "                time.sleep(0.1)\n",
    "            \n",
    "            ### This is usually bad practice but if we encounter an connection error or a blockage from the website\n",
    "            # we want to continue as if nothing happened in order to build our dataset\n",
    "            except Exception:\n",
    "                continue\n"
   ]
  },
  {
   "cell_type": "code",
   "execution_count": 27,
   "metadata": {},
   "outputs": [
    {
     "name": "stdout",
     "output_type": "stream",
     "text": [
      "141\n",
      "142\n",
      "143\n",
      "144\n",
      "145\n",
      "146\n",
      "147\n",
      "148\n",
      "149\n",
      "150\n",
      "151\n",
      "152\n",
      "153\n",
      "154\n",
      "155\n",
      "156\n",
      "157\n",
      "158\n",
      "159\n",
      "160\n",
      "161\n",
      "162\n",
      "163\n",
      "164\n",
      "165\n",
      "166\n",
      "167\n",
      "168\n",
      "169\n",
      "170\n",
      "171\n",
      "172\n",
      "173\n",
      "174\n",
      "175\n",
      "176\n",
      "177\n",
      "178\n",
      "179\n",
      "180\n",
      "181\n",
      "182\n",
      "183\n",
      "184\n",
      "185\n",
      "186\n",
      "187\n",
      "188\n",
      "189\n",
      "190\n",
      "191\n",
      "192\n",
      "193\n",
      "194\n",
      "195\n",
      "196\n",
      "197\n",
      "198\n",
      "199\n",
      "200\n",
      "201\n"
     ]
    }
   ],
   "source": [
    "make_nodes(\"temp.csv\")"
   ]
  },
  {
   "cell_type": "markdown",
   "metadata": {},
   "source": [
    "#### Create a dictionary from the temp CSV file. \n",
    "\n",
    "Each key is a node, and the entries are an array to all the websites that node has hyperlinks to. We then remove duplicate hyperlinks because only one is needed."
   ]
  },
  {
   "cell_type": "code",
   "execution_count": 28,
   "metadata": {},
   "outputs": [
    {
     "name": "stdout",
     "output_type": "stream",
     "text": [
      "{'www.wikihow.com': ['www.facebook.com', 'fr.wikihow.com', 'www.pinterest.com', 'www.carsdirect.com', 'www.wikihow.it', 'www.youtube.com', 'knowhow.napaonline.com', 'www.gonift.com', 'twitter.com', 'ar.wikihow.com', 'autorepair.about.com', 'ru.wikihow.com', 'www.instagram.com', 'www.tiktok.com'], 'www.quora.com': [], 'techtirerepairs.com': [], 'www.mach1services.com': [], 'germaniainsurance.com': ['classic.germaniaconnect.com', 'www.facebook.com', 'www.autoguide.com', 'germania-ciam.okta.com', 'www.instagram.com', 'policyholders.germaniaconnect.com', 'twitter.com', 'www.thedrive.com', 'www.brandtackle.com', 'roadsumo.com', 'germaniacreditunion.com', 'www.linkedin.com'], 'www.amfam.com': ['www.facebook.com', 'play.google.com', 'www.ghsa.org', 'instagram.com', 'www.pinterest.com', 'newsroom.amfam.com', 'injuryfacts.nsc.org', 'www.twitter.com', 'www.youtube.com', 'apps.apple.com', 'www.digicert.com', 'b2b.amfam.com', 'www.iii.org', 'www.ncsl.org', 'www.linkedin.com', 'chat-ui.amfam.com'], 'www.progressive.comwww.sullivantire.com': ['www.linkedin.com', 'www.facebook.com', 'www.tireindustry.org', 'www.ustires.org', 'www.sullivantirewholesale.com', 'www.youtube.com', 'www.twitter.com', 'www.pintrest.com', 'twitter.com', 'portal.sullivantire.com', 'www.instagram.com'], 'www.bicycling.com': ['www.dynaplug.com', 'www.facebook.com', 'www.pinterest.com', 'www.hearst.com', 'www.notubes.com', 'www.youtube.com', 'subscribe.hearstmags.com', 'twitter.com', 'go.redirectingat.com', 'goto.walmart.com', 'www.amazon.com', 'shop.bicycling.com', 'www.instagram.com', 'www.tiktok.com'], 'www.tires-easy.com': ['www.goodyear.com', 'www.facebook.com', 'ro.pinterest.com', 'register.cimstireregistration.com', 'www.youtube.com', 'twitter.com', 'www.instagram.com'], 'blog.napacanada.com': ['www.ritewaytowingnyc.com', 'www.traction.com', 'www.facebook.com', 'www.myyttilukukansasta.fi', 'www.thelightwire.com', 'elitetowingcg.com', 'gotechmantra.com', 'www.youtube.com', 'www.uapinc.com', 'www.napaautopro.com', 'www.napaonline.com', 'i-5trucktrailerrepair.com', 'twitter.com', 'towingbee.com', 'www.truckpro.ca', 'www.napacanada.com', 'www.instagram.com'], 'www.bridgestonetire.com': ['www.facebook.com', 'home-c14.incontact.com', 'www.instagram.com', 'www.youtube.com', 'www.bridgestonetire.ca', 'twitter.com', 'www.bridgestoneamericas.com', 'bebridgestone.com'], 'www.rei.com': [], 'velosurance.com': [], 'www.lesschwab.com': ['www.facebook.com', 'www.google.com', 'www.youtube.com', 'www.twitter.com', 'www.instagram.com'], 'www.millerautoplaza.com': ['www.cloudflare.com'], 'knowhow.napaonline.com': [], 'www.fixaflat.com': ['instagram.com', 'www.facebook.com', 'www.youtube.com', 'careers.itw.com', 'twitter.com'], 'www.trekchicago.com': ['www.eventbrite.com', 'www.facebook.com', 'www.trekbikes.com', 'www.klarna.com'], 'carfromjapan.com': ['how-to-buy', 'cheap-used-cars-for-sale', 'testimonials', 'cfj-local'], 'www.pirelli.com': ['www.hangarbicocca.org', 'www.facebook.com', 'www.prometeon.com', 'www.instagram.com', 'www.fondazionepirelli.org', 'my.pirelli.com', 'www.youtube.com', 'www.pirellidesign.com', 'twitter.com', 'corporate.pirelli.com', 'www.linkedin.com', 'pirellicalendar.pirelli.com'], 'www.popularmechanics.com': ['www.facebook.com', 'www.popularmechanicsmediakit.com', 'www.pinterest.com', 'www.hearst.com', 'www.youtube.com', 'subscribe.hearstmags.com', 'twitter.com', 'goto.walmart.com', 'www.amazon.com', 'shop.popularmechanics.com', 'www.instagram.com', 'www.tiktok.com'], 'www.azdiyguy.com': ['Amazon.com', 'www.facebook.com', 'en.wikipedia.org', 'instagram.com', 'www.pinterest.com', 'AMAZON.COM', 'www.youtube.com', 'az-diy-guy.squarespace.com', 'twitter.com', 'mailchi.mp', 'www.amazon.com'], 'www.rac.co.uk': ['www.ractyres.co.uk', 'www.facebook.com', 'media.rac.co.uk', 'www.racshop.co.uk', 'www.instagram.com', 'www.raccorporate.co.uk', 'www.racbenefits.co.uk', 'www.youtube.com', 'disqus.com', 'twitter.com', 'forum.rac.co.uk', 'www.raccars.co.uk', 'www.rac-careers.com', 'www.linkedin.com'], 'www.pepboys.com': [], 'blog.clutch.ca': ['www.facebook.com', 'www.tireindustry.org', 'www.clutch.ca', 'cars.costhelper.com', 'www.instagram.com', 'www.twitter.com', 'www.messenger.com', 'www.tirebuyer.com'], 'www.kaltire.com': ['www.facebook.com', 'commercial.kaltire.com', 'www.kaltiremining.com', 'www.youtube.com', 'ca.linkedin.com', 'jobs.jobvite.com', 'www.instagram.com'], 'www.digitaltrends.com': ['www.123rf.com', 'www.linkedin.com', 'theangle.digitaltrends.com', 'www.facebook.com', 'privacyportal.onetrust.com', 'www.thoughtco.com', 'es.digitaltrends.com', 'www.dtadsolutions.com', 'www.pinterest.com', 'www.adcetera.com', 'www.youtube.com', 'www.themanual.com', 'downloads.digitaltrends.com', 'www.dtmg.co', 'twitter.com', 'www.instagram.com', 'www.tiktok.com'], 'selleanatomica.com': ['www.shopify.com', 'www.facebook.com', 'plus.google.com', 'vimeo.com', 'www.coach-darryl.com', 'partners.selleanatomica.com', 'pinterest.com', 'twitter.com', 'disqus.com', 'www.instagram.com'], 'www.chapelhilltire.com': ['promotions.chapelhilltire.com', 'www.facebook.com', 'ulfric.digitalmarketingsys.com:2096', 'www.instagram.com', 'apps.apple.com', 'twitter.com', 'play.google.com', 'www.linkedin.com', 'www.tiktok.com'], 'www.utires.com': ['www.facebook.com', 'www.tireindustry.org', 'www.fountaintire.com', 'www.jiffylube.com', 'www.kaltire.com', 'www.ebay.com', 'www.continental-tires.com', 'www.grainger.com', 'icesjms.oxfordjournals.org', 'www.motorweek.org', 'www.evolutionm.net', 'www.tirereview.com', 'www.tirerack.com', 'www.michelinman.com', 'ijoh.tums.ac.ir', 'www.pepboys.com', 'www.carsdirect.com', 'epa.gov', 'www.autos.com', 'www.patchrubber.com', 'forum.roadfly.com', 'www.allpar.com', 'classic.artsautomotive.com', 'autorepair.about.com', 'www.rma.org', 'www.blackjacktirerepair.com', 'www.continental-corporation.com', 'digitalscholarship.unlv.edu', 'www.wikihow.com', 'txtire.com', 'www.washingtonpost.com', 'skeptics.stackexchange.com', 'tires.about.com', 'diy-auto-repair.wonderhowto.com', 'www.moderntiredealer.com', 'www.instagram.com', 'www.sciencedirect.com', 'artsautomotive.com', 'www.team-bhp.com', 'www.youtube.com', 'www.paddlenepal.com', 'www.tirebusiness.com', 'link.springer.com', 'answers.yahoo.com'], 'www.tirerack.com': [], 'eleglide.com': ['www.shopify.com', 'instagram.com', 'www.facebook.com', 'www.youtube.com', 'www.trustpilot.com', 'twitter.com', 'policies.google.com', 'eleglide.goaffpro.com', 'www.instagram.com'], 'www.goodyear.com': ['www.facebook.com', 'privacyportal.onetrust.com', 'corporate.goodyear.com', 'jobs.goodyear.com', 'www.instagram.com', 'www.youtube.com', 'twitter.com', 'www.linkedin.com'], 'www.repairsmith.com': ['support.repairsmith.com', 'properties.repairsmith.com', 'www.facebook.com', 'fleet.repairsmith.com', 'employers.repairsmith.com', 'www.pinterest.com', 'www.instagram.com', 'www.youtube.com', 'twitter.com', 'www.forbes.com', 'contact.repairsmith.com', 'www.linkedin.com'], 'www.hagerty.com': ['www.linkedin.com', 'www.facebook.com', 'investor.hagerty.com', 'www.youtube.com', 'insider.hagerty.com', 'corporate.hagerty.com', 'www.hagerty.co.uk', 'twitter.com', 'submit-irm.trustarc.com', 'account.hagerty.com', 'www.instagram.com'], 'www.bigbrandtire.com': [], 'www.firestonecompleteautocare.com': ['www.facebook.com', 'local.firestonecompleteautocare.com', 'local.firestonedirect.com', 'www.buyatab.com', 'www.bebridgestone.com', 'www.cfna.com', 'vehicle.firestonecompleteautocare.com', 'www.firestoneracing.com', 'twitter.com', 'www.bridgestoneamericas.com', 'www.instagram.com'], 'www.liv-cycling.com': ['www.giantgroup-cycling.com', 'www.facebook.com', 'www.instagram.com', 'www.youtube.com'], 'eliteautorepairtempe.com': ['www.facebook.com', 'www.youtube.com', 'goo.gl', 'twitter.com', 'kukui.com', 'www.yelp.com', 'www.linkedin.com'], 'www.scottclarkstoyota.com': ['smartpath.scottclarkstoyota.com', 'www.facebook.com', 'www.toyota.com', 'pixabay.com', 'bookmarks.yahoo.com', 'www.dealeron.com', 'www.bookmarkify.com', 'www.youtube.com', 'www.twitter.com', 'twitter.com', 'maps.google.com', 'www.feedburner.com', 'www.linkedin.com'], 'www.carhop.com': ['www.cloudflare.com'], 'www.goodyearautoservice.com': ['corporate.goodyear.com', 'jobs.goodyear.com', 'citiretailservices.citibankonline.com'], 'carloversautomotive.com': ['www.linkedin.com', 'www.facebook.com', 'www.instagram.com', 'www.google.com'], 'www.matthewstire.com': ['www.goodyear.com', 'www.facebook.com', 'www.motorist.org', 'www.bbb.org', 'www.carcare.org', 'www.instagram.com', 'insightcreative.com', 'www.youtube.com', 'goo.gl', 'g.page', 'www.ase.com', 'twitter.com', 'tireindustry.org', 'www.linkedin.com'], 'topdriver.com': ['www.linkedin.com', 'www.facebook.com', 'www.thoughtco.com', 'www.topdriversignals.com', 'www.youtube.com', 'www.topdriver.com', 'topdriveronline.net', 'send', 'twitter.com', 'www.allstardrivereducation.com', 'pinterest.com', 'www.instagram.com', 'www.topdriverparent.com'], 'www.instructables.com': ['usa.autodesk.com', 'www.tireindustry.org', 'youtu.be', 'www.autodesk.com', 'www.instagram.com', 'www.tiktok.com'], 'www.tireagent.com': ['www.carshtuff.com', 'www.linkedin.com', 'www.facebook.com', 'www.fixaflat.com', 'www.ustires.org', 'www.pinterest.com', 'www.dreamstime.com', 'app.accruesavings.com', 'www.twitter.com', 'www.youtube.com', 'www.instagram.com', 'tireagent.applytojob.com', 'www.tiktok.com'], 'retail.wonderlandtire.com': ['support.cloudflare.com', 'www.cloudflare.com'], 'www.bikeride.com': ['forums.bikeride.com', 'www.facebook.com', 'www.jimlangley.net', 'www.youtube.com', 'www.sheldonbrown.com', 'twitter.com', 'www.strava.com', 'www.amazon.com', 'www.parktool.com', 'www.instagram.com'], 'www.carfax.com': ['www.aaa.com', 'www.carfaxserviceshops.com', 'support.carfax.com', 'www.facebook.com', 'secure.carfax.com', 'www.instagram.com', 'www.carfaxbig.com', 'www.youtube.com', 'www.carfaxfordealers.com', 'twitter.com', 'jobs.jobvite.com', 'www.linkedin.com', 'www.tiktok.com'], 'www.revzilla.com': ['www.facebook.com', 'instagram.com', 'www.reddit.com', 'www.progressive.com', 'www.youtube.com', 'twitter.com', 'revzilla.extole.io'], 'www.discounttire.com': [], 'www.dealnews.com': ['cen.acs.org', 'www.facebook.com', 'www.youtube.com', 'www.twitter.com', 'twitter.com', 'corp.dealnews.com', 'newsroom.aaa.com', 'www.linkedin.com', 'www.fixaflat.com'], 'www.keystonechevrolet.com': ['www.cloudflare.com'], 'www.mmtires.com': [], 'www.americantiredepot.com': [], 'www.unitedautoinsurance.com': ['www.facebook.com', 'www.google.com', 'www.youtube.com', 'twitter.com', 'csp.unitedautoinsurance.com'], 'www.petersenshunting.com': [], 'www.oreillyauto.com': [], 'www.jiffylube.com': ['www.facebook.com', 'www.jiffylube.ca', 'www.youtube.com', 'twitter.com', 'acquisitions.jiffylube.com', 'franchise.jiffylube.com'], 'www.alltechautomotive.com': ['www.facebook.com', 'www.thoughtco.com', 'www.youtube.com', 'twitter.com', 'kukui.com', 'www.yelp.com'], 'www.tirebarn.com': ['www.facebook.com', 'corporate.monro.com', 'twitter.com'], 'www.roadbikerider.com': ['www.facebook.com', 'www.pinterest.com', 'NeugentCycling.com', 'wordpress.org', 'www.studiopress.com', 'my.studiopress.com'], 'www.bigltireco.com': ['www.cloudflare.com'], 'www.yokohamatire.com': ['yokohamatruck.com', 'www.linkedin.com', 'merchandise.yokohamatire.com', 'www.facebook.com', 'eco.yokohamatire.com', 'tire.yokohama.ca', 'privacyportal-eu.onetrust.com', 'ustires.org', 'www.youtube.com', 'yokohamallantas.com', 'twitter.com', 'www.instagram.com', 'www.yokohamatruck.com'], 'www.tirekingdom.com': [], 'www.goldeagle.com': ['thegoldeaglemethod.com', 'coolridesonline.net', 'www.linkedin.com'], 'blog.nationwide.com': ['www.facebook.com', 'www.fdic.gov', 'news.nationwide.com', 'www.youtube.com', 'www.nationwide.com', 'twitter.com', 'www.linkedin.com'], 'getresqued.com': [], 'townfairtire.com': ['www.facebook.com', 'www.pinterest.com', 'www.instagram.com', 'www.surveymonkey.com', 'twitter.com', 'www.linkedin.com'], 'www.tiresplus.com': ['www.facebook.com', 'www.buyatab.com', 'www.bebridgestone.com', 'www.cfna.com', 'twitter.com', 'www.bridgestoneamericas.com', 'local.tiresplus.com', 'www.instagram.com'], 'www.justtires.com': ['corporate.goodyear.com', 'jobs.goodyear.com', 'citiretailservices.citibankonline.com'], 'www.dunlop.eu': ['myway.goodyear.com', 'www.facebook.com', 'news.goodyear.eu', 'corporate.goodyear.com', 'jobs.goodyear.com', 'www.sava-tires.com', 'www.goodyear.eu', 'www.fulda.com', 'www.hiqfleet.co.uk', 'www.instagram.com'], 'www.tirewarehouse.net': ['www.facebook.com', 'corporate.monro.com', 'twitter.com'], 'www.teamtractor.com': ['www.facebook.com', 'www.dealerspikeheavyequipment.com', 'www.pinterest.com', 'www.bbb.org', 'www.youtube.com', 'g.page', 'twitter.com', 'www.instagram.com'], 'www.trekbikes.com': [], 'www.flynnstire.com': ['flynnstire.us6.list-manage.com', 'www.facebook.com', 'toysforpittsburghtikes.com', 'www.youtube.com', 'flynnswholesale.com', 'workforcenow.adp.com', 'www.flynnscommercialtire.com', 'twitter.com', 'www.linkedin.com'], 'www.carlblackoforlando.com': ['www.cloudflare.com'], 'www.yourmechanic.com': ['facebook.com', 'recruiting.paylocity.com', 'www.instagram.com', 'apps.apple.com', 'twitter.com', 'www.amazon.com', 'justanswer.9pctbx.net', 'play.google.com', 'www.linkedin.com', 'www.fixaflat.com'], 'harristirecompany.com': [], 'www.fitzwaycarclinics.com': ['www.facebook.com', 'www.carsdirect.com', 'plus.google.com', 'txtire.com', 'www.youtube.com', 'goo.gl', 'www.tirereview.com'], 'www.deverinc.com': ['www.dealerspike.com', 'www.facebook.com', 'deverrentals.com', 'twitter.com', 'ezgo.txtsv.com', 'secure-financing.dealerspike.com', 'www.deverrentals.com'], 'www.campanellas.com': [], 'www.theautodoc.net': ['flic.kr', 'www.facebook.com', 'www.google.com', 'kukui.com', 'www.yelp.com', 'www.flickr.com', 'creativecommons.org'], 'www.drivparts.com': ['www.linkedin.com', 'www.facebook.com', 'www.fmmotorparts.com', 'www.youtube.com', 'twitter.com', 'www.instagram.com'], 'longviewautotire.com': ['www.facebook.com', 'www.google.com', 'www.youtube.com', 'twitter.com', 'kukui.com', 'www.yelp.com', 'www.flickr.com', 'creativecommons.org'], 'wrench.com': ['www.facebook.com', 'www.seattletimes.com', 'freshchalk.com', 'www.bizjournals.com', 'www.sandiegouniontribune.com', 'www.ktnv.com', 'www.geekwire.com', 'www.dailynews.com', 'www.ocregister.com', 'www.kiro7.com', 'www.kgw.com', 'gooddaysacramento.cbslocal.com', 'www.ratchetandwrench.com', 'recruiting.paylocity.com', 'seattle.crains.com', 'www.builtinseattle.com', 'www.king5.com', 'app.wrench.com', 'www.instagram.com', 'www.eastvalleytribune.com', 'twitter.com', 'www.kxan.com', 'www.yelp.com', 'www.chicagotribune.com', 'www.linkedin.com'], 'www.tateboys.com': [], 'www.reddit.com': ['redditinc.com', 'apps.apple.com', 'ads.reddit.com', 'www.redditinc.com', 'redditblog.com', 'play.google.com', 'www.reddithelp.com'], 'roadside.goodsam.com': ['www.goodsam.com', 'www.facebook.com', 'campingworld.com', 'travelassist.goodsam.com', 'www.tiktok.com', 'tireandwheel.goodsam.com', 'www.overtons.com', 'www.pinterest.com', 'community.goodsam.com', 'www.goodsamesp.com', 'www.instagram.com', 'investor.campingworld.com', 'myaccount.goodsam.com', 'www.campingworld.com', 'www.youtube.com', 'loans.goodsam.com', 'twitter.com', 'www.rvrentals.com', 'rv.campingworld.com'], 'dennisservicecenter.orgwww.midas.com': ['www.facebook.com', 'privacyportal.onetrust.com', 'midas-careers.careerplug.com', 'www.youtube.com', 'midasfranchise.com', 'www.instagram.com'], 'www.target.com': ['weeklyad.target.com'], 'www.copilotsearch.com': ['facebook.com', 'reddit.com', 'www.facebook.com', 'pixabay.com', 'internal-dlnk.onelink.me', 'pinterest.com', 'twitter.com', 'www.instagram.com'], 'tires.costco.com': [], 'www.landrys.com': ['www.facebook.com', 'booklandrysfitting.timetap.com', 'www.youtube.com', 'www.instagram.com', 'blog.landrys.com'], 'www.ntb.com': [], 'www.metromile.com': [], 'www.stp.com': ['www.facebook.com', 'www.energizerholdings.com', 'www.autocare.org', 'sds.chemdox.com', 'www.youtube.com', 'twitter.com', 'stpstore.com', 'www.instagram.com', 'energizergrouplegal.com'], 'premiotowingcompany.com': ['www.facebook.com', 'www.premiotowingcompany.com', 'www.reddit.com', 'youtu.be', 'plus.google.com', 'www.pinterest.com', 'premiotowing1.tumblr.com', 'forward', 'send', 'twitter.com', 'vk.com', 'partners.viadeo.com', 'www.tumblr.com', 'www.linkedin.com'], 'www.corwheels.com': ['reddit.com', 'www.facebook.com', 'www.instagram.com', 'www.youtube.com', 'corwheels.tumblr.com', 'pinterest.com', 'twitter.com', 'www.tumblr.com', 'www.linkedin.com'], 'www.amazon.com': [], 'www.kbb.com': ['b2b.kbb.com', 'www.facebook.com', 'www.kbb.com.br', 'channelstore.roku.com', 'www.coxautoinc.com', 'mediaroom.kbb.com', 'www.kbb.ca', 'www.youtube.com', 'jobs.coxenterprises.com', 'twitter.com', 'www.linkedin.com'], 'trailwheel.com': ['amzn.to', 'www.pinterest.com', 'www.youtube.com', 'twitter.com', 'onewheel.com', 'www.instagram.com'], 'bobparts.com': [], 'www.homedepot.com': [], 'www.cjponyparts.com': [], 'support.vanmoof.com': ['www.vanmoof.com'], 'www.mavis.com': ['www.weldontire.net'], 'treadconnection.com': ['www.linkedin.com', 'www.facebook.com', 'www.instagram.com', 'www.youtube.com'], 'www.ustires.org': ['www.facebook.com', 'sustainability.ustires.org', 'www.youtube.com', 'www.addtoany.com', 'www.twitter.com', 'members.ustires.org'], 'rnrtires.com': ['www.facebook.com', 'www.youtube.com', 'www.twitter.com', 'rnrfranchise.com', 'www.instagram.com'], 'motorweek.org': ['www.tirerack.com', 'www.facebook.com', 'www.autovalue.com', 'www.pbs.org', 'www.youtube.com', 'www.mpt.org', 'twitter.com', 'sutter-group.com', 'www.instagram.com'], 'completeautoloans.com': [], 'www.tireoutlet.com': ['www.facebook.com', 'instagram.com', 'careers-tireoutlet.icims.com', 'www.ustires.org', 'www.tireindustry.org', 'sites.google.com', 'pinterest.com', 'twitter.com', 'www.linkedin.com'], 'www.kumhotire.com': ['www.facebook.com', 'www.kumhotire.si', 'product.kumhotire.com', 'www.marshalthailand.com', 'blog.kumhotire.co.kr', 'www.youtube.com', 'www.kumhotyre.cz', 'www.marshaltire.com'], 'www.autozone.com': [], 'www.hondainfocenter.comsimplebikeinsurance.com': [], 'www.vipauto.com': [], 'postletire.com': ['PostleTire.com'], 'ell.stackexchange.com': ['law.stackexchange.com', 'www.facebook.com', 'chat.stackexchange.com', 'electronics.stackexchange.com', 'api.stackexchange.com', 'stackoverflow.blog', 'gis.stackexchange.com', 'data.stackexchange.com', 'stackoverflowteams.com', 'tex.stackexchange.com', 'mathematica.stackexchange.com', 'meta.stackexchange.com', 'scifi.stackexchange.com', 'retrocomputing.stackexchange.com', 'stackoverflow.com', 'linkedin.com', 'gaming.stackexchange.com', 'workplace.stackexchange.com', 'aviation.stackexchange.com', 'physics.stackexchange.com', 'try.stackoverflow.co', 'puzzling.stackexchange.com', 'rpg.stackexchange.com', 'www.instagram.com', 'mathoverflow.net', 'stackoverflow.co', 'serverfault.com', 'worldbuilding.stackexchange.com', 'webmasters.stackexchange.com', 'math.stackexchange.com', 'twitter.com', 'money.stackexchange.com', 'codegolf.stackexchange.com', 'ell.meta.stackexchange.com'], 'www.michelinman.com': ['cxf-prod.azureedge.net', 'www.facebook.com', 'www.tirerewardcenter.com', 'www.michelinearthmover.com', 'www.michelin.com', 'metro.michelin.com', 'www.youtube.com', 'michelinracingusa.com', 'www.tablethotels.com', 'jobs.michelinman.com', 'agricultural.michelinman.com', 'aircraft.michelin.com', 'twitter.com', 'business.michelinman.com', 'www.instagram.com', 'guide.michelin.com', 'www.michelinmedia.com'], 'www.rmigolfcarts.com': ['www.facebook.com'], 'en.wikipedia.org': ['www.teampansky.com', 'donate.wikimedia.org', 'www.wikidata.org', 'www.mediawiki.org', 'stats.wikimedia.org', 'www.oglecounty.org', 'foundation.wikimedia.org', 'zh-yue.wikipedia.org', 'developer.wikimedia.org', 'commons.wikimedia.org', 'en.wikiversity.org', 'en.wikibooks.org', 'wikimediafoundation.org', 'he.wikipedia.org', 'ja.wikipedia.org', 'en.wikivoyage.org', 'en.wiktionary.org', 'de.wikipedia.org', 'www.wikimediafoundation.org', 'www.diynetwork.com', 'www.breakdownrecovery.co.uk', 'en.m.wikipedia.org', 'fr.wikipedia.org', 'web.archive.org', 'meta.wikimedia.org', 'id.ndl.go.jp', 'zh.wikipedia.org'], 'www.dunntire.com': ['www.facebook.com', 'www.instagram.com', 'twitter.com', 'www.youtube.com'], 'shop.advanceautoparts.com': ['www.facebook.com', 'www.speedperks.com', 'twitter.com', 'stores.advanceautoparts.com', 'blog.advanceautoparts.com'], 'www.mbprinceton.com': ['www.cloudflare.com'], 'www.aventon.com': ['support.aventon.com', 'www.facebook.com', 'tracking.attentivemobile.com', 'www.youtube.com', 'twitter.com', 'b2b.aventon.com', 'rideaventon.zendesk.com', 'www.instagram.com'], 'www.tesla.com': [], 'www.walmart.com': ['corporate.walmart.com', 'help.walmart.com'], 'www.porschenorthscottsdale.com': ['www.facebook.com', 'www.jdpower.com', 'pixabay.com', 'www.dealeron.com', 'www.google.com', 'login.porsche.com', 'www.drive-safely.net', 'www.penskeautomotivecollision.com', 'www.youtube.com', 'www.yelp.com', 'www.porsche.com', 'twitter.com', 'maps.google.com', 'pagjobs.com', 'www.instagram.com'], 'www.cycleworld.com': ['cycleworld.us12.list-manage.com', 'www.facebook.com', 'teespring.com', 'www.pinterest.com', 'www.youtube.com', 'twitter.com', 'www.instagram.com', 'octane.co'], 'www.fleetfinancials.com': ['www.schoolbusfleet.com', 'www.facebook.com', 'www.government-fleet.com', 'www.bobit.com', 'www.fleetjobfinder.com', 'automotive-fleet.com', 'www.bobitmarketingsolutions.com', 'www.businessfleet.com', 'www.chargedfleet.com', 'www.bobitbusinessmedia.com', 'www.metro-magazine.com', 'www.automotive-fleet.com', 'www.fleetforward.com', 'info.wrightsmedia.com', 'vincentric.com', 'bob.dragonforms.com', 'directory.automotive-fleet.com', 'www.worktruckonline.com', 'www.truckinginfo.com', 'twitter.com'], 'www.continental-tires.com': ['www.facebook.com', 'www.continental-reifen.de', 'pk.continental-me.com', 'www.continental-na.com', 'www.continental-automotive.com', 'www.continental-tires.co.il', 'www.continental-tires.com.gh', 'www.continental-industry.com', 'www.continental-neumaticos.es', 'www.continental-pneumatici.it', 'jobs.continental.com', 'www.continental-tyres.co.uk', 'continental-me.com', 'www.instagram.com', 'www.continental-me.com', 'www.continental.mu', 'www.continental.com', 'www.continental-tyres.com.lk', 'www.continental-tyres.asia', 'www.continental-tyres.co.za', 'www.continental-tires.cn', 'www.youtube.com', 'twitter.com', 'www.conti.com.br', 'www.linkedin.com'], 'www.fjmercedes.com': ['www.cloudflare.com'], 'www.cvs.com': [], 'support.super73.com': ['www.facebook.com', 'privacy.super73.com', 'www.instagram.com', 'www.youtube.com'], 'www.bigotires.com': ['www.facebook.com', 'privacyportal.onetrust.com', 'www.bigofranchise.com', 'www.twitter.com', 'www.instagram.com'], 'apolloscooters.co': ['www.facebook.com', 'youtu.be', 'www.instagram.com', 'www.youtube.com', 'twitter.com', 'apolloscooters.bamboohr.com', 'apolloscooters.ca', 'apollo-help-center.gorgias.help', 'www.linkedin.com'], 'www.whatsinproducts.com': ['ww2.arb.ca.gov', 'archive.epa.gov', 'ntp.niehs.nih.gov', 'www.waterboards.ca.gov', 'cfpub.epa.gov', 'oehha.ca.gov', 'biomonitoring.ca.gov', 'govt.westlaw.com', 'echa.europa.eu', 'www.federalregister.gov', 'www.atsdr.cdc.gov', 'www.blackmagicshine.com'], 'www.mbontario.com': ['www.cloudflare.com'], 'forums.redflagdeals.com': ['www.redflagdeals.com', 'www.facebook.com', 'blackfriday.redflagdeals.com', 'www.verticalscope.com', 'www.carinstructions.com', 'www.sellmycar.ca', 'www.youtube.com', 'www.phpbb.com', 'boxingday.redflagdeals.com', 'twitter.com', 'go.redirectingat.com', 'creditcards.redflagdeals.com', 'www.instagram.com'], 'www.zorestowing.com': ['wordpress.org'], 'www.porschebeachwood.com': ['www.facebook.com', 'www.dealeron.com', 'www.google.com', 'www.instagram.com', 'www.youtube.com', 'www.yelp.com', 'my.porsche.com', 'www.porsche.com', 'twitter.com', 'maps.google.com', 'pagjobs.com', 'store.porschebeachwood.com', 'express.porschebeachwood.com'], 'www.gotodobbs.com': [], 'www.hogantire.com': ['support.cloudflare.com', 'www.cloudflare.com'], 'www.tipsfromatypicalmomblog.com': ['facebook.com', 'shareasale.com', 'www.actiontirecentre.com', 'momgoescamping.com', 'wholovesbabies.com', 'www.amazon.com', 'www.restored316designs.com', 'www.studiopress.com', 'instagram.com', 'strollerlist.com', 'www.strollerlab.net', 'pinterest.com', 'wordpress.org', 'reimaginingrascal.com', 'cheapdealsoftheday.info', 'www.bestjoggingstroller.reviews', 'www.mommystroller.com', 'thewholebaby.com', 'youtube.com', 'twitter.com', 'www.linkedin.com', 'restored316designs.com'], 'www.lowes.com': [], 'www.apexway.com.tw': ['bit.ly', 'www.ibest.com.tw'], 'www.schaeferautobody.com': ['www.linkedin.com', 'www.facebook.com', 'www.claysforcareers.org', 'www.addtoany.com', 'twitter.com', '5thgearce.com', 'www.instagram.com'], 'www.liveabout.com': ['privacy.truste.com', 'www.nysenate.gov', 'www.dotdashmeredith.com'], 'cascade.org': ['www.facebook.com', 'www.cbcmerchandise.com', 'www.youtube.com', 'email.cascade.org', 'cbcmerchandise.com', 'www.cascade.org', 'twitter.com', 'maps.google.com', 'www.flickr.com', 'www.instagram.com'], 'stopandshop.com': [], 'singlegirlsdiy.com': ['www.facebook.com', 'www.reddit.com', 'twitter.com', 'www.amazon.com', 'getpocket.com', 'singlegirlsdiy.podia.com'], 'www.rivianforums.com': [], 'www.yelp.com': ['www.yelpblog.com', 'yelp-ir.com', 'blog.yelp.com', 'trust.yelp.com', 'biz.yelp.com', 'www.acxiom.com', 'restaurants.yelp.com', 'business.yelp.com', 'www.yelp-support.com'], 'www.vioc.com': [], 'www.pellmansauto.com': [], 'www.streetdirectory.com': ['www.streetdirectory.com.my', 'www.streetdirectory.co.id', 'www.singaporejobsdb.com', 'www.street-directory.com'], 'www.rumriverauto.com': [], 'www.pothiermotors.com': ['www.facebook.com', 'www.instagram.com', 'twitter.com', 'www.autotrader.ca'], 'slime.com': ['www.facebook.com', 'www.youtube.com', 'buydirect.slime.com', 'twitter.com', 'www.instagram.com', 'www.itw.com'], 'www.speedstowingpdx.com': ['facebook.com', 'www.facebook.com', 'www.speedstowingauction.com', 'www.pinterest.com', 'www.youtube.com', 'goo.gl', 'pinterest.com', 'twitter.com', 'www.tumblr.com', 'www.instagram.com'], 'traveltalesoflife.com': [], 'www.mattcastruccinissan.com': ['www.nissanusa.com', 'www.facebook.com', 'www.dealerfire.com', 'nissanusa.com', 'www.youtube.com', 'www.edmunds.com', 'dealersocket.com', 'www.instagram.com'], 'www.vikingmotors.ca': ['www.cloudflare.com'], 'www.americastire.com': [], 'www.corvetteforum.com': ['www.facebook.com', 'www.internetbrandsauto.com', 'katzkin.com', 'store.corvetteforum.com', 'twitter.com', 'www.internetbrands.com', 'www.instagram.com'], 'tires.bjs.com': ['b2bsales.bjs.com', 'stocked.bjs.com', 'help.bjs.com', 'careers.bjs.com', 'app.rangeme.com', 'investors.bjs.com', 'bjswholesale.co1.qualtrics.com', 's22.q4cdn.com', 'newsroom.bjs.com', 'www.bjs.com', 'bjs.capitalone.com'], 'help.samsclub.com': ['www.samsclub.com'], 'www.tiktok.com': ['newsroom.tiktok.com', 'careers.tiktok.com', 'developers.tiktok.com', 'support.tiktok.com', 'effecthouse.tiktok.com'], 'continentaltire.com': ['continentaltire.custhelp.com', 'www.continental-truck.com', 'www.facebook.com', 'www.continental.com', 'www.totalconfidence-plan.com', 'register.roadsideprotect.com', 'www.youtube.com', 'twitter.com', 'continentaltire.ac-page.com', 'www.instagram.com'], 'cluballiance.aaa.com': ['www.aaa.com', 'discounts.aaa.com', 'aaa.rushmypassport.com', 'tourbook.aaa.com', 'www.aaacorporatetravel.com', 'play.google.com', 'shop.cluballiance.aaa.com', 'itunes.apple.com', 'mypolicyclub.digital.csaa-insurance.aaa.com', 'discounts.cluballiance.aaa.com', 'booktravel.cluballiance.aaa.com', 'www.fuzeqna.com', 'aca.memberdeals.com'], 'commercialtire.com': ['facebook.com', 'instagram.com', 'commercialtire.treadsearch.com', 'www.cfna.com', 'twitter.com', 'asacustomerconnect.com', 'pay.billingdoc.net'], 'www.mrtire.com': ['www.facebook.com', 'corporate.monro.com', 'twitter.com'], 'www.bestonetire.com': ['www.michelinman.com', 'www.bandag.com', 'corporate.goodyear.com', 'www.nexentireusa.com', 'generaltire.com', 'form.jotform.com', 'www.bestonecommercial.com', 'www.toyotires.com', 'www.firestonetire.com', 'www.bridgestonetire.com', 'www.mastercrafttires.com', 'www.continentaltire.com'], 'www.kwik-fit.com': ['www.facebook.com', 'www.kwik-fit.eu', 'www.youtube.com', 'www.kwik-fit.nl', 'twitter.com', 'www.instagram.com'], 'www.auffenberg.com': ['www.cloudflare.com'], 'www.mopar.com': ['www.facebook.com', 'www.fiatusa.com', 'www.moparrepairconnection.com', 'www.stellantis.com', 'www.jeep.com', 'www.amazon.com', 'www.wearmopar.com', 'www.chrysler.com', 'fcacommunity.force.com', 'fcagroup.my.site.com', 'www.fcagroupcareers.com', 'play.google.com', 'blog.mopar.com', 'www.pinterest.com', 'www.fcausautomobility.com', 'dcperformance.com', 'www.dealers-mopar.com', 'www.alfaromeousa.com', 'dealerconnect.chrysler.com', 'www.instagram.com', 'www.dodge.com', 'itunes.apple.com', 'store.mopar.com', 'www.youtube.com', 'www.twitter.com', 'www.ramtrucks.com', 'twitter.com', 'privacyportal-cdn.onetrust.com'], 'www.caranddriver.com': [], 'www.carmart.ng': ['instagram.com', 'www.facebook.com', 'i0.wp.com', 'www.instagram.com', 'pinterest.com', 'twitter.com', 'www.tumblr.com', 'www.linkedin.com'], 'www.geico.com': [], 'www.inglewoodrepairs.com': ['www.copyscape.com', 'www.facebook.com', 'www.nolenwalker.com', 'plus.google.com', 'www.autoshopwebmasters.com', 'statcounter.com', 'twitter.com'], 'www.allstate.com': ['www.facebook.com', 'allstatehealth.com', 'agents.allstate.com', 'www.allstatecorporation.com', 'myaccountrwd.allstate.com', 'goreadyinsurance.com', 'www.arity.com', 'www.answerfinancial.com', 'www.encompassinsurance.com', 'manageroadside.allstate.com', 'www.accessallstate.com', 'www.allstaterewards.com', 'quote.embracepetinsurance.com', 'purchase.allstate.com', 'www.markelinsurance.com', 'roadside.allstate.com', 'allstateflood.com', 'availcarsharing.com', 'www.instagram.com', 'nationalgeneral.com', 'www.youtube.com', 'www.twitter.com', 'www.linkedin.com', 'espanol.allstate.com'], 'www.mbchevymetairie.com': ['www.facebook.com', 'www.google.com', 'accessories.gm.com', 'www.youtube.com', 'www.microsoft.com', 'parts.gmparts.com', 'blogs.windows.com', 'www.instagram.com', 'www.mozilla.org'], 'www.toyotaofdowntownla.com': ['www.cloudflare.com'], 'www.halfords.com': [], 'www.mariettatoyota.com': ['www.cloudflare.com'], 'www.fitandfix.com': ['bit.ly', 'wa.me', 'www.facebook.com', 'blog.fitandfix.com', 'www.youtube.com', 'apple.co', 'www.instagram.com'], 'wranglertjforum.com': []}\n"
     ]
    }
   ],
   "source": [
    "def csv_to_dict(path):\n",
    "    node_dict = {}\n",
    "\n",
    "    with open(path, 'r') as file:\n",
    "        for line in file:\n",
    "            # Split the line by comma and strip whitespace\n",
    "            entries = [entry.strip() for entry in line.split(',')]\n",
    "\n",
    "            # Use the first entry as the key and the rest as values\n",
    "            if entries:  # Check if the line is not empty\n",
    "                node_dict[entries[0]] = entries[1:]\n",
    "\n",
    "    # Remove duplicates\n",
    "    for k in node_dict:\n",
    "        connections = node_dict[k]\n",
    "\n",
    "        # Easy way to remove duplicates\n",
    "        node_dict[k] = list(set(connections))\n",
    "\n",
    "    return node_dict\n",
    "\n",
    "node_dict = csv_to_dict(\"temp.csv\")\n",
    "print(node_dict)"
   ]
  },
  {
   "cell_type": "markdown",
   "metadata": {},
   "source": [
    "#### Main function that creates the CSV graph\n",
    "\n",
    "Parses the dictionary and gets the indices of all the connections, writing them into a file."
   ]
  },
  {
   "cell_type": "code",
   "execution_count": 29,
   "metadata": {},
   "outputs": [],
   "source": [
    "def create_csv_dataset(path):\n",
    "    with open(path, 'w') as file:\n",
    "        for n in node_dict:\n",
    "            connections = node_dict[n]\n",
    "\n",
    "            indexed_connections = []\n",
    "\n",
    "            for c in connections:\n",
    "                if c in keys:\n",
    "                    # Recall the Julia is 1-indexed not 0-indexed like Python\n",
    "                    indexed_connections.append(str(keys.index(c) + 1))\n",
    "\n",
    "            file.write(\", \".join(indexed_connections))\n",
    "            file.write(\"\\n\")\n",
    "\n",
    "create_csv_dataset(\"test.csv\")"
   ]
  }
 ],
 "metadata": {
  "kernelspec": {
   "display_name": "base",
   "language": "python",
   "name": "python3"
  },
  "language_info": {
   "codemirror_mode": {
    "name": "ipython",
    "version": 3
   },
   "file_extension": ".py",
   "mimetype": "text/x-python",
   "name": "python",
   "nbconvert_exporter": "python",
   "pygments_lexer": "ipython3",
   "version": "3.8.8"
  }
 },
 "nbformat": 4,
 "nbformat_minor": 2
}
